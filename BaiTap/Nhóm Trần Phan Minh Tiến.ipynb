{
 "cells": [
  {
   "cell_type": "markdown",
   "metadata": {
    "id": "dSNr3s0H_D6V"
   },
   "source": [
    "## Nhóm có 3 bạn:\n",
    "\n",
    "Trần Minh Thuận 23IT.EB107\n",
    "\n",
    "Trần Phan Minh Tiến 23IT.EB108\n",
    "\n",
    "Hoàng Van Đức 23IT.EB021"
   ]
  },
  {
   "cell_type": "code",
   "execution_count": 52,
   "metadata": {
    "colab": {
     "base_uri": "https://localhost:8080/"
    },
    "executionInfo": {
     "elapsed": 1950,
     "status": "ok",
     "timestamp": 1742782897893,
     "user": {
      "displayName": "tran minh thuan",
      "userId": "06896544119676718798"
     },
     "user_tz": -420
    },
    "id": "p3hUXnEfRSWu",
    "outputId": "0d83485c-7253-4b5d-984b-d8e4779373e9"
   },
   "outputs": [
    {
     "name": "stdout",
     "output_type": "stream",
     "text": [
      "Drive already mounted at /content/drive; to attempt to forcibly remount, call drive.mount(\"/content/drive\", force_remount=True).\n"
     ]
    }
   ],
   "source": [
    "\n",
    "from google.colab import drive\n",
    "drive.mount('/content/drive')"
   ]
  },
  {
   "cell_type": "code",
   "execution_count": 5,
   "metadata": {
    "executionInfo": {
     "elapsed": 6,
     "status": "ok",
     "timestamp": 1742782897895,
     "user": {
      "displayName": "tran minh thuan",
      "userId": "06896544119676718798"
     },
     "user_tz": -420
    },
    "id": "zDzaetchRbCb"
   },
   "outputs": [],
   "source": [
    "#import libraries:\n",
    "import numpy as np\n",
    "import pandas as pd\n",
    "import matplotlib.pyplot as plt\n",
    "import seaborn as sns\n",
    "import os"
   ]
  },
  {
   "cell_type": "code",
   "execution_count": 6,
   "metadata": {
    "colab": {
     "base_uri": "https://localhost:8080/"
    },
    "executionInfo": {
     "elapsed": 5067,
     "status": "ok",
     "timestamp": 1742782902958,
     "user": {
      "displayName": "tran minh thuan",
      "userId": "06896544119676718798"
     },
     "user_tz": -420
    },
    "id": "qv6IU2srSCyL",
    "outputId": "b7f4b4cd-4d51-4778-e923-3e67b1aa342a"
   },
   "outputs": [
    {
     "name": "stderr",
     "output_type": "stream",
     "text": [
      "/tmp/ipykernel_149794/251996090.py:3: DtypeWarning: Columns (2,3,4) have mixed types. Specify dtype option on import or set low_memory=False.\n",
      "  df_2021 = pd.read_csv(\"diem_thi_thpt_2021.csv\")\n"
     ]
    }
   ],
   "source": [
    "#read dataset\n",
    "df_2020 = pd.read_csv(\"diem_thi_thpt_2020.csv\")\n",
    "df_2021 = pd.read_csv(\"diem_thi_thpt_2021.csv\")\n",
    "df_2023 = pd.read_csv(\"diem_thi_thpt_2023.csv\")\n",
    "df_2022 = pd.read_csv(\"diem_thi_thpt_2022.csv\")\n",
    "df_2024 = pd.read_csv(\"diem_thi_thpt_2024.csv\")"
   ]
  },
  {
   "cell_type": "code",
   "execution_count": 7,
   "metadata": {
    "colab": {
     "base_uri": "https://localhost:8080/",
     "height": 244
    },
    "executionInfo": {
     "elapsed": 19,
     "status": "ok",
     "timestamp": 1742782902984,
     "user": {
      "displayName": "tran minh thuan",
      "userId": "06896544119676718798"
     },
     "user_tz": -420
    },
    "id": "ZMfQHZTHVapX",
    "outputId": "cc04097b-e824-4a65-a6fb-fa8d17bd9ac2"
   },
   "outputs": [
    {
     "data": {
      "application/vnd.microsoft.datawrangler.viewer.v0+json": {
       "columns": [
        {
         "name": "index",
         "rawType": "int64",
         "type": "integer"
        },
        {
         "name": "Unnamed: 0",
         "rawType": "int64",
         "type": "integer"
        },
        {
         "name": "sbd",
         "rawType": "int64",
         "type": "integer"
        },
        {
         "name": "ten",
         "rawType": "float64",
         "type": "float"
        },
        {
         "name": "ngay_sinh",
         "rawType": "float64",
         "type": "float"
        },
        {
         "name": "gioi_tinh",
         "rawType": "float64",
         "type": "float"
        },
        {
         "name": "toan",
         "rawType": "float64",
         "type": "float"
        },
        {
         "name": "ngu_van",
         "rawType": "float64",
         "type": "float"
        },
        {
         "name": "vat_li",
         "rawType": "float64",
         "type": "float"
        },
        {
         "name": "hoa_hoc",
         "rawType": "float64",
         "type": "float"
        },
        {
         "name": "sinh_hoc",
         "rawType": "float64",
         "type": "float"
        },
        {
         "name": "lich_su",
         "rawType": "float64",
         "type": "float"
        },
        {
         "name": "dia_li",
         "rawType": "float64",
         "type": "float"
        },
        {
         "name": "gdcd",
         "rawType": "float64",
         "type": "float"
        },
        {
         "name": "ngoai_ngu",
         "rawType": "float64",
         "type": "float"
        }
       ],
       "conversionMethod": "pd.DataFrame",
       "ref": "5f35c879-8e3f-4e2a-a1bf-6d0d0df0c2e6",
       "rows": [
        [
         "0",
         "0",
         "18014547",
         null,
         null,
         null,
         "6.4",
         "6.75",
         null,
         null,
         null,
         "4.75",
         "7.0",
         "6.5",
         "4.2"
        ],
        [
         "1",
         "1",
         "18014530",
         null,
         null,
         null,
         "7.6",
         "6.0",
         null,
         null,
         null,
         "3.75",
         "7.75",
         "7.75",
         "2.8"
        ],
        [
         "2",
         "2",
         "18014521",
         null,
         null,
         null,
         "4.8",
         "4.75",
         null,
         null,
         null,
         "4.0",
         "6.5",
         null,
         null
        ],
        [
         "3",
         "3",
         "18014517",
         null,
         null,
         null,
         "8.0",
         "7.0",
         null,
         null,
         null,
         "8.25",
         "8.0",
         "9.5",
         "5.8"
        ],
        [
         "4",
         "4",
         "18014523",
         null,
         null,
         null,
         "8.2",
         "6.5",
         "8.0",
         "8.5",
         "5.0",
         null,
         null,
         null,
         "4.0"
        ]
       ],
       "shape": {
        "columns": 14,
        "rows": 5
       }
      },
      "text/html": [
       "<div>\n",
       "<style scoped>\n",
       "    .dataframe tbody tr th:only-of-type {\n",
       "        vertical-align: middle;\n",
       "    }\n",
       "\n",
       "    .dataframe tbody tr th {\n",
       "        vertical-align: top;\n",
       "    }\n",
       "\n",
       "    .dataframe thead th {\n",
       "        text-align: right;\n",
       "    }\n",
       "</style>\n",
       "<table border=\"1\" class=\"dataframe\">\n",
       "  <thead>\n",
       "    <tr style=\"text-align: right;\">\n",
       "      <th></th>\n",
       "      <th>Unnamed: 0</th>\n",
       "      <th>sbd</th>\n",
       "      <th>ten</th>\n",
       "      <th>ngay_sinh</th>\n",
       "      <th>gioi_tinh</th>\n",
       "      <th>toan</th>\n",
       "      <th>ngu_van</th>\n",
       "      <th>vat_li</th>\n",
       "      <th>hoa_hoc</th>\n",
       "      <th>sinh_hoc</th>\n",
       "      <th>lich_su</th>\n",
       "      <th>dia_li</th>\n",
       "      <th>gdcd</th>\n",
       "      <th>ngoai_ngu</th>\n",
       "    </tr>\n",
       "  </thead>\n",
       "  <tbody>\n",
       "    <tr>\n",
       "      <th>0</th>\n",
       "      <td>0</td>\n",
       "      <td>18014547</td>\n",
       "      <td>NaN</td>\n",
       "      <td>NaN</td>\n",
       "      <td>NaN</td>\n",
       "      <td>6.4</td>\n",
       "      <td>6.75</td>\n",
       "      <td>NaN</td>\n",
       "      <td>NaN</td>\n",
       "      <td>NaN</td>\n",
       "      <td>4.75</td>\n",
       "      <td>7.00</td>\n",
       "      <td>6.50</td>\n",
       "      <td>4.2</td>\n",
       "    </tr>\n",
       "    <tr>\n",
       "      <th>1</th>\n",
       "      <td>1</td>\n",
       "      <td>18014530</td>\n",
       "      <td>NaN</td>\n",
       "      <td>NaN</td>\n",
       "      <td>NaN</td>\n",
       "      <td>7.6</td>\n",
       "      <td>6.00</td>\n",
       "      <td>NaN</td>\n",
       "      <td>NaN</td>\n",
       "      <td>NaN</td>\n",
       "      <td>3.75</td>\n",
       "      <td>7.75</td>\n",
       "      <td>7.75</td>\n",
       "      <td>2.8</td>\n",
       "    </tr>\n",
       "    <tr>\n",
       "      <th>2</th>\n",
       "      <td>2</td>\n",
       "      <td>18014521</td>\n",
       "      <td>NaN</td>\n",
       "      <td>NaN</td>\n",
       "      <td>NaN</td>\n",
       "      <td>4.8</td>\n",
       "      <td>4.75</td>\n",
       "      <td>NaN</td>\n",
       "      <td>NaN</td>\n",
       "      <td>NaN</td>\n",
       "      <td>4.00</td>\n",
       "      <td>6.50</td>\n",
       "      <td>NaN</td>\n",
       "      <td>NaN</td>\n",
       "    </tr>\n",
       "    <tr>\n",
       "      <th>3</th>\n",
       "      <td>3</td>\n",
       "      <td>18014517</td>\n",
       "      <td>NaN</td>\n",
       "      <td>NaN</td>\n",
       "      <td>NaN</td>\n",
       "      <td>8.0</td>\n",
       "      <td>7.00</td>\n",
       "      <td>NaN</td>\n",
       "      <td>NaN</td>\n",
       "      <td>NaN</td>\n",
       "      <td>8.25</td>\n",
       "      <td>8.00</td>\n",
       "      <td>9.50</td>\n",
       "      <td>5.8</td>\n",
       "    </tr>\n",
       "    <tr>\n",
       "      <th>4</th>\n",
       "      <td>4</td>\n",
       "      <td>18014523</td>\n",
       "      <td>NaN</td>\n",
       "      <td>NaN</td>\n",
       "      <td>NaN</td>\n",
       "      <td>8.2</td>\n",
       "      <td>6.50</td>\n",
       "      <td>8.0</td>\n",
       "      <td>8.5</td>\n",
       "      <td>5.0</td>\n",
       "      <td>NaN</td>\n",
       "      <td>NaN</td>\n",
       "      <td>NaN</td>\n",
       "      <td>4.0</td>\n",
       "    </tr>\n",
       "  </tbody>\n",
       "</table>\n",
       "</div>"
      ],
      "text/plain": [
       "   Unnamed: 0       sbd  ten  ngay_sinh  gioi_tinh  toan  ngu_van  vat_li  \\\n",
       "0           0  18014547  NaN        NaN        NaN   6.4     6.75     NaN   \n",
       "1           1  18014530  NaN        NaN        NaN   7.6     6.00     NaN   \n",
       "2           2  18014521  NaN        NaN        NaN   4.8     4.75     NaN   \n",
       "3           3  18014517  NaN        NaN        NaN   8.0     7.00     NaN   \n",
       "4           4  18014523  NaN        NaN        NaN   8.2     6.50     8.0   \n",
       "\n",
       "   hoa_hoc  sinh_hoc  lich_su  dia_li  gdcd  ngoai_ngu  \n",
       "0      NaN       NaN     4.75    7.00  6.50        4.2  \n",
       "1      NaN       NaN     3.75    7.75  7.75        2.8  \n",
       "2      NaN       NaN     4.00    6.50   NaN        NaN  \n",
       "3      NaN       NaN     8.25    8.00  9.50        5.8  \n",
       "4      8.5       5.0      NaN     NaN   NaN        4.0  "
      ]
     },
     "execution_count": 7,
     "metadata": {},
     "output_type": "execute_result"
    }
   ],
   "source": [
    "df_2020.head()"
   ]
  },
  {
   "cell_type": "code",
   "execution_count": 8,
   "metadata": {
    "colab": {
     "base_uri": "https://localhost:8080/",
     "height": 244
    },
    "executionInfo": {
     "elapsed": 36,
     "status": "ok",
     "timestamp": 1742782903022,
     "user": {
      "displayName": "tran minh thuan",
      "userId": "06896544119676718798"
     },
     "user_tz": -420
    },
    "id": "UEglz9quVabE",
    "outputId": "7c500559-9e40-4614-f1ec-7d57a065aed1"
   },
   "outputs": [
    {
     "data": {
      "application/vnd.microsoft.datawrangler.viewer.v0+json": {
       "columns": [
        {
         "name": "index",
         "rawType": "int64",
         "type": "integer"
        },
        {
         "name": "Unnamed: 0",
         "rawType": "int64",
         "type": "integer"
        },
        {
         "name": "sbd",
         "rawType": "int64",
         "type": "integer"
        },
        {
         "name": "ten",
         "rawType": "object",
         "type": "unknown"
        },
        {
         "name": "ngay_sinh",
         "rawType": "object",
         "type": "unknown"
        },
        {
         "name": "gioi_tinh",
         "rawType": "object",
         "type": "unknown"
        },
        {
         "name": "toan",
         "rawType": "float64",
         "type": "float"
        },
        {
         "name": "ngu_van",
         "rawType": "float64",
         "type": "float"
        },
        {
         "name": "vat_li",
         "rawType": "float64",
         "type": "float"
        },
        {
         "name": "hoa_hoc",
         "rawType": "float64",
         "type": "float"
        },
        {
         "name": "sinh_hoc",
         "rawType": "float64",
         "type": "float"
        },
        {
         "name": "lich_su",
         "rawType": "float64",
         "type": "float"
        },
        {
         "name": "dia_li",
         "rawType": "float64",
         "type": "float"
        },
        {
         "name": "gdcd",
         "rawType": "float64",
         "type": "float"
        },
        {
         "name": "ngoai_ngu",
         "rawType": "float64",
         "type": "float"
        }
       ],
       "conversionMethod": "pd.DataFrame",
       "ref": "40827e82-dbf9-4028-92f5-7f561061923c",
       "rows": [
        [
         "0",
         "870486",
         "1000043",
         null,
         null,
         null,
         "8.0",
         "8.5",
         null,
         null,
         null,
         "5.75",
         "6.5",
         "8.75",
         "8.8"
        ],
        [
         "1",
         "870487",
         "1000163",
         null,
         null,
         null,
         "3.8",
         "7.5",
         null,
         null,
         null,
         "6.75",
         "7.0",
         null,
         null
        ],
        [
         "2",
         "870488",
         "1000040",
         null,
         null,
         null,
         "3.8",
         "2.0",
         null,
         null,
         null,
         "2.5",
         "4.5",
         null,
         null
        ],
        [
         "3",
         "870489",
         "1000007",
         null,
         null,
         null,
         "9.0",
         "5.25",
         "7.25",
         "4.75",
         "3.5",
         null,
         null,
         null,
         "9.0"
        ],
        [
         "4",
         "870490",
         "1000180",
         null,
         null,
         null,
         "8.8",
         "8.5",
         null,
         null,
         null,
         "5.25",
         "7.25",
         "8.0",
         "9.6"
        ]
       ],
       "shape": {
        "columns": 14,
        "rows": 5
       }
      },
      "text/html": [
       "<div>\n",
       "<style scoped>\n",
       "    .dataframe tbody tr th:only-of-type {\n",
       "        vertical-align: middle;\n",
       "    }\n",
       "\n",
       "    .dataframe tbody tr th {\n",
       "        vertical-align: top;\n",
       "    }\n",
       "\n",
       "    .dataframe thead th {\n",
       "        text-align: right;\n",
       "    }\n",
       "</style>\n",
       "<table border=\"1\" class=\"dataframe\">\n",
       "  <thead>\n",
       "    <tr style=\"text-align: right;\">\n",
       "      <th></th>\n",
       "      <th>Unnamed: 0</th>\n",
       "      <th>sbd</th>\n",
       "      <th>ten</th>\n",
       "      <th>ngay_sinh</th>\n",
       "      <th>gioi_tinh</th>\n",
       "      <th>toan</th>\n",
       "      <th>ngu_van</th>\n",
       "      <th>vat_li</th>\n",
       "      <th>hoa_hoc</th>\n",
       "      <th>sinh_hoc</th>\n",
       "      <th>lich_su</th>\n",
       "      <th>dia_li</th>\n",
       "      <th>gdcd</th>\n",
       "      <th>ngoai_ngu</th>\n",
       "    </tr>\n",
       "  </thead>\n",
       "  <tbody>\n",
       "    <tr>\n",
       "      <th>0</th>\n",
       "      <td>870486</td>\n",
       "      <td>1000043</td>\n",
       "      <td>NaN</td>\n",
       "      <td>NaN</td>\n",
       "      <td>NaN</td>\n",
       "      <td>8.0</td>\n",
       "      <td>8.50</td>\n",
       "      <td>NaN</td>\n",
       "      <td>NaN</td>\n",
       "      <td>NaN</td>\n",
       "      <td>5.75</td>\n",
       "      <td>6.50</td>\n",
       "      <td>8.75</td>\n",
       "      <td>8.8</td>\n",
       "    </tr>\n",
       "    <tr>\n",
       "      <th>1</th>\n",
       "      <td>870487</td>\n",
       "      <td>1000163</td>\n",
       "      <td>NaN</td>\n",
       "      <td>NaN</td>\n",
       "      <td>NaN</td>\n",
       "      <td>3.8</td>\n",
       "      <td>7.50</td>\n",
       "      <td>NaN</td>\n",
       "      <td>NaN</td>\n",
       "      <td>NaN</td>\n",
       "      <td>6.75</td>\n",
       "      <td>7.00</td>\n",
       "      <td>NaN</td>\n",
       "      <td>NaN</td>\n",
       "    </tr>\n",
       "    <tr>\n",
       "      <th>2</th>\n",
       "      <td>870488</td>\n",
       "      <td>1000040</td>\n",
       "      <td>NaN</td>\n",
       "      <td>NaN</td>\n",
       "      <td>NaN</td>\n",
       "      <td>3.8</td>\n",
       "      <td>2.00</td>\n",
       "      <td>NaN</td>\n",
       "      <td>NaN</td>\n",
       "      <td>NaN</td>\n",
       "      <td>2.50</td>\n",
       "      <td>4.50</td>\n",
       "      <td>NaN</td>\n",
       "      <td>NaN</td>\n",
       "    </tr>\n",
       "    <tr>\n",
       "      <th>3</th>\n",
       "      <td>870489</td>\n",
       "      <td>1000007</td>\n",
       "      <td>NaN</td>\n",
       "      <td>NaN</td>\n",
       "      <td>NaN</td>\n",
       "      <td>9.0</td>\n",
       "      <td>5.25</td>\n",
       "      <td>7.25</td>\n",
       "      <td>4.75</td>\n",
       "      <td>3.5</td>\n",
       "      <td>NaN</td>\n",
       "      <td>NaN</td>\n",
       "      <td>NaN</td>\n",
       "      <td>9.0</td>\n",
       "    </tr>\n",
       "    <tr>\n",
       "      <th>4</th>\n",
       "      <td>870490</td>\n",
       "      <td>1000180</td>\n",
       "      <td>NaN</td>\n",
       "      <td>NaN</td>\n",
       "      <td>NaN</td>\n",
       "      <td>8.8</td>\n",
       "      <td>8.50</td>\n",
       "      <td>NaN</td>\n",
       "      <td>NaN</td>\n",
       "      <td>NaN</td>\n",
       "      <td>5.25</td>\n",
       "      <td>7.25</td>\n",
       "      <td>8.00</td>\n",
       "      <td>9.6</td>\n",
       "    </tr>\n",
       "  </tbody>\n",
       "</table>\n",
       "</div>"
      ],
      "text/plain": [
       "   Unnamed: 0      sbd  ten ngay_sinh gioi_tinh  toan  ngu_van  vat_li  \\\n",
       "0      870486  1000043  NaN       NaN       NaN   8.0     8.50     NaN   \n",
       "1      870487  1000163  NaN       NaN       NaN   3.8     7.50     NaN   \n",
       "2      870488  1000040  NaN       NaN       NaN   3.8     2.00     NaN   \n",
       "3      870489  1000007  NaN       NaN       NaN   9.0     5.25    7.25   \n",
       "4      870490  1000180  NaN       NaN       NaN   8.8     8.50     NaN   \n",
       "\n",
       "   hoa_hoc  sinh_hoc  lich_su  dia_li  gdcd  ngoai_ngu  \n",
       "0      NaN       NaN     5.75    6.50  8.75        8.8  \n",
       "1      NaN       NaN     6.75    7.00   NaN        NaN  \n",
       "2      NaN       NaN     2.50    4.50   NaN        NaN  \n",
       "3     4.75       3.5      NaN     NaN   NaN        9.0  \n",
       "4      NaN       NaN     5.25    7.25  8.00        9.6  "
      ]
     },
     "execution_count": 8,
     "metadata": {},
     "output_type": "execute_result"
    }
   ],
   "source": [
    "df_2021.head()"
   ]
  },
  {
   "cell_type": "code",
   "execution_count": 9,
   "metadata": {
    "colab": {
     "base_uri": "https://localhost:8080/",
     "height": 226
    },
    "executionInfo": {
     "elapsed": 48,
     "status": "ok",
     "timestamp": 1742782903072,
     "user": {
      "displayName": "tran minh thuan",
      "userId": "06896544119676718798"
     },
     "user_tz": -420
    },
    "id": "-qAC04g_St5D",
    "outputId": "b2276b55-4cf6-49eb-8832-2aa0953daa24"
   },
   "outputs": [
    {
     "data": {
      "application/vnd.microsoft.datawrangler.viewer.v0+json": {
       "columns": [
        {
         "name": "index",
         "rawType": "int64",
         "type": "integer"
        },
        {
         "name": "sbd",
         "rawType": "int64",
         "type": "integer"
        },
        {
         "name": "toan",
         "rawType": "float64",
         "type": "float"
        },
        {
         "name": "ngu_van",
         "rawType": "float64",
         "type": "float"
        },
        {
         "name": "ngoai_ngu",
         "rawType": "float64",
         "type": "float"
        },
        {
         "name": "vat_li",
         "rawType": "float64",
         "type": "float"
        },
        {
         "name": "hoa_hoc",
         "rawType": "float64",
         "type": "float"
        },
        {
         "name": "sinh_hoc",
         "rawType": "float64",
         "type": "float"
        },
        {
         "name": "lich_su",
         "rawType": "float64",
         "type": "float"
        },
        {
         "name": "dia_li",
         "rawType": "float64",
         "type": "float"
        },
        {
         "name": "gdcd",
         "rawType": "float64",
         "type": "float"
        }
       ],
       "conversionMethod": "pd.DataFrame",
       "ref": "17ef4c7a-d9f3-4e92-ba4d-26fab7aee231",
       "rows": [
        [
         "0",
         "1000001",
         "3.6",
         "5.0",
         "4.0",
         null,
         null,
         null,
         "2.75",
         "6.0",
         "8.75"
        ],
        [
         "1",
         "1000002",
         "8.4",
         "6.75",
         "7.6",
         null,
         null,
         null,
         "8.5",
         "7.5",
         "8.25"
        ],
        [
         "2",
         "1000003",
         "5.8",
         "7.5",
         "5.0",
         null,
         null,
         null,
         "7.25",
         "5.5",
         "8.75"
        ],
        [
         "3",
         "1000004",
         "7.4",
         "7.5",
         "8.6",
         null,
         null,
         null,
         "7.5",
         "6.5",
         "7.5"
        ],
        [
         "4",
         "1000005",
         "7.2",
         "8.5",
         "9.0",
         null,
         null,
         null,
         "8.0",
         "8.5",
         "8.25"
        ]
       ],
       "shape": {
        "columns": 10,
        "rows": 5
       }
      },
      "text/html": [
       "<div>\n",
       "<style scoped>\n",
       "    .dataframe tbody tr th:only-of-type {\n",
       "        vertical-align: middle;\n",
       "    }\n",
       "\n",
       "    .dataframe tbody tr th {\n",
       "        vertical-align: top;\n",
       "    }\n",
       "\n",
       "    .dataframe thead th {\n",
       "        text-align: right;\n",
       "    }\n",
       "</style>\n",
       "<table border=\"1\" class=\"dataframe\">\n",
       "  <thead>\n",
       "    <tr style=\"text-align: right;\">\n",
       "      <th></th>\n",
       "      <th>sbd</th>\n",
       "      <th>toan</th>\n",
       "      <th>ngu_van</th>\n",
       "      <th>ngoai_ngu</th>\n",
       "      <th>vat_li</th>\n",
       "      <th>hoa_hoc</th>\n",
       "      <th>sinh_hoc</th>\n",
       "      <th>lich_su</th>\n",
       "      <th>dia_li</th>\n",
       "      <th>gdcd</th>\n",
       "    </tr>\n",
       "  </thead>\n",
       "  <tbody>\n",
       "    <tr>\n",
       "      <th>0</th>\n",
       "      <td>1000001</td>\n",
       "      <td>3.6</td>\n",
       "      <td>5.00</td>\n",
       "      <td>4.0</td>\n",
       "      <td>NaN</td>\n",
       "      <td>NaN</td>\n",
       "      <td>NaN</td>\n",
       "      <td>2.75</td>\n",
       "      <td>6.0</td>\n",
       "      <td>8.75</td>\n",
       "    </tr>\n",
       "    <tr>\n",
       "      <th>1</th>\n",
       "      <td>1000002</td>\n",
       "      <td>8.4</td>\n",
       "      <td>6.75</td>\n",
       "      <td>7.6</td>\n",
       "      <td>NaN</td>\n",
       "      <td>NaN</td>\n",
       "      <td>NaN</td>\n",
       "      <td>8.50</td>\n",
       "      <td>7.5</td>\n",
       "      <td>8.25</td>\n",
       "    </tr>\n",
       "    <tr>\n",
       "      <th>2</th>\n",
       "      <td>1000003</td>\n",
       "      <td>5.8</td>\n",
       "      <td>7.50</td>\n",
       "      <td>5.0</td>\n",
       "      <td>NaN</td>\n",
       "      <td>NaN</td>\n",
       "      <td>NaN</td>\n",
       "      <td>7.25</td>\n",
       "      <td>5.5</td>\n",
       "      <td>8.75</td>\n",
       "    </tr>\n",
       "    <tr>\n",
       "      <th>3</th>\n",
       "      <td>1000004</td>\n",
       "      <td>7.4</td>\n",
       "      <td>7.50</td>\n",
       "      <td>8.6</td>\n",
       "      <td>NaN</td>\n",
       "      <td>NaN</td>\n",
       "      <td>NaN</td>\n",
       "      <td>7.50</td>\n",
       "      <td>6.5</td>\n",
       "      <td>7.50</td>\n",
       "    </tr>\n",
       "    <tr>\n",
       "      <th>4</th>\n",
       "      <td>1000005</td>\n",
       "      <td>7.2</td>\n",
       "      <td>8.50</td>\n",
       "      <td>9.0</td>\n",
       "      <td>NaN</td>\n",
       "      <td>NaN</td>\n",
       "      <td>NaN</td>\n",
       "      <td>8.00</td>\n",
       "      <td>8.5</td>\n",
       "      <td>8.25</td>\n",
       "    </tr>\n",
       "  </tbody>\n",
       "</table>\n",
       "</div>"
      ],
      "text/plain": [
       "       sbd  toan  ngu_van  ngoai_ngu  vat_li  hoa_hoc  sinh_hoc  lich_su  \\\n",
       "0  1000001   3.6     5.00        4.0     NaN      NaN       NaN     2.75   \n",
       "1  1000002   8.4     6.75        7.6     NaN      NaN       NaN     8.50   \n",
       "2  1000003   5.8     7.50        5.0     NaN      NaN       NaN     7.25   \n",
       "3  1000004   7.4     7.50        8.6     NaN      NaN       NaN     7.50   \n",
       "4  1000005   7.2     8.50        9.0     NaN      NaN       NaN     8.00   \n",
       "\n",
       "   dia_li  gdcd  \n",
       "0     6.0  8.75  \n",
       "1     7.5  8.25  \n",
       "2     5.5  8.75  \n",
       "3     6.5  7.50  \n",
       "4     8.5  8.25  "
      ]
     },
     "execution_count": 9,
     "metadata": {},
     "output_type": "execute_result"
    }
   ],
   "source": [
    "df_2022.head()"
   ]
  },
  {
   "cell_type": "code",
   "execution_count": 10,
   "metadata": {
    "colab": {
     "base_uri": "https://localhost:8080/",
     "height": 226
    },
    "executionInfo": {
     "elapsed": 4,
     "status": "ok",
     "timestamp": 1742782903077,
     "user": {
      "displayName": "tran minh thuan",
      "userId": "06896544119676718798"
     },
     "user_tz": -420
    },
    "id": "XZzafNv3St9m",
    "outputId": "a2aa680c-bc7d-4bb6-d980-8903f3db1f8c"
   },
   "outputs": [
    {
     "data": {
      "application/vnd.microsoft.datawrangler.viewer.v0+json": {
       "columns": [
        {
         "name": "index",
         "rawType": "int64",
         "type": "integer"
        },
        {
         "name": "sbd",
         "rawType": "int64",
         "type": "integer"
        },
        {
         "name": "toan",
         "rawType": "float64",
         "type": "float"
        },
        {
         "name": "ngu_van",
         "rawType": "float64",
         "type": "float"
        },
        {
         "name": "ngoai_ngu",
         "rawType": "float64",
         "type": "float"
        },
        {
         "name": "vat_li",
         "rawType": "float64",
         "type": "float"
        },
        {
         "name": "hoa_hoc",
         "rawType": "float64",
         "type": "float"
        },
        {
         "name": "sinh_hoc",
         "rawType": "float64",
         "type": "float"
        },
        {
         "name": "lich_su",
         "rawType": "float64",
         "type": "float"
        },
        {
         "name": "dia_li",
         "rawType": "float64",
         "type": "float"
        },
        {
         "name": "gdcd",
         "rawType": "float64",
         "type": "float"
        },
        {
         "name": "ma_ngoai_ngu",
         "rawType": "object",
         "type": "unknown"
        }
       ],
       "conversionMethod": "pd.DataFrame",
       "ref": "78789e22-11fd-463e-8908-f29bd121ebb0",
       "rows": [
        [
         "0",
         "1000001",
         "8.4",
         "8.5",
         "9.2",
         null,
         null,
         null,
         "6.75",
         "6.0",
         "9.0",
         "N1"
        ],
        [
         "1",
         "1000002",
         "7.2",
         "8.5",
         "9.2",
         null,
         null,
         null,
         "8.75",
         "6.5",
         "8.5",
         "N1"
        ],
        [
         "2",
         "1000003",
         null,
         "6.5",
         null,
         null,
         null,
         null,
         "9.25",
         "7.5",
         null,
         null
        ],
        [
         "3",
         "1000004",
         "7.8",
         "8.25",
         "7.8",
         null,
         null,
         null,
         "4.5",
         "6.25",
         "8.25",
         "N1"
        ],
        [
         "4",
         "1000005",
         "7.2",
         "8.0",
         "7.8",
         null,
         null,
         null,
         "4.75",
         "6.75",
         "8.25",
         "N1"
        ]
       ],
       "shape": {
        "columns": 11,
        "rows": 5
       }
      },
      "text/html": [
       "<div>\n",
       "<style scoped>\n",
       "    .dataframe tbody tr th:only-of-type {\n",
       "        vertical-align: middle;\n",
       "    }\n",
       "\n",
       "    .dataframe tbody tr th {\n",
       "        vertical-align: top;\n",
       "    }\n",
       "\n",
       "    .dataframe thead th {\n",
       "        text-align: right;\n",
       "    }\n",
       "</style>\n",
       "<table border=\"1\" class=\"dataframe\">\n",
       "  <thead>\n",
       "    <tr style=\"text-align: right;\">\n",
       "      <th></th>\n",
       "      <th>sbd</th>\n",
       "      <th>toan</th>\n",
       "      <th>ngu_van</th>\n",
       "      <th>ngoai_ngu</th>\n",
       "      <th>vat_li</th>\n",
       "      <th>hoa_hoc</th>\n",
       "      <th>sinh_hoc</th>\n",
       "      <th>lich_su</th>\n",
       "      <th>dia_li</th>\n",
       "      <th>gdcd</th>\n",
       "      <th>ma_ngoai_ngu</th>\n",
       "    </tr>\n",
       "  </thead>\n",
       "  <tbody>\n",
       "    <tr>\n",
       "      <th>0</th>\n",
       "      <td>1000001</td>\n",
       "      <td>8.4</td>\n",
       "      <td>8.50</td>\n",
       "      <td>9.2</td>\n",
       "      <td>NaN</td>\n",
       "      <td>NaN</td>\n",
       "      <td>NaN</td>\n",
       "      <td>6.75</td>\n",
       "      <td>6.00</td>\n",
       "      <td>9.00</td>\n",
       "      <td>N1</td>\n",
       "    </tr>\n",
       "    <tr>\n",
       "      <th>1</th>\n",
       "      <td>1000002</td>\n",
       "      <td>7.2</td>\n",
       "      <td>8.50</td>\n",
       "      <td>9.2</td>\n",
       "      <td>NaN</td>\n",
       "      <td>NaN</td>\n",
       "      <td>NaN</td>\n",
       "      <td>8.75</td>\n",
       "      <td>6.50</td>\n",
       "      <td>8.50</td>\n",
       "      <td>N1</td>\n",
       "    </tr>\n",
       "    <tr>\n",
       "      <th>2</th>\n",
       "      <td>1000003</td>\n",
       "      <td>NaN</td>\n",
       "      <td>6.50</td>\n",
       "      <td>NaN</td>\n",
       "      <td>NaN</td>\n",
       "      <td>NaN</td>\n",
       "      <td>NaN</td>\n",
       "      <td>9.25</td>\n",
       "      <td>7.50</td>\n",
       "      <td>NaN</td>\n",
       "      <td>NaN</td>\n",
       "    </tr>\n",
       "    <tr>\n",
       "      <th>3</th>\n",
       "      <td>1000004</td>\n",
       "      <td>7.8</td>\n",
       "      <td>8.25</td>\n",
       "      <td>7.8</td>\n",
       "      <td>NaN</td>\n",
       "      <td>NaN</td>\n",
       "      <td>NaN</td>\n",
       "      <td>4.50</td>\n",
       "      <td>6.25</td>\n",
       "      <td>8.25</td>\n",
       "      <td>N1</td>\n",
       "    </tr>\n",
       "    <tr>\n",
       "      <th>4</th>\n",
       "      <td>1000005</td>\n",
       "      <td>7.2</td>\n",
       "      <td>8.00</td>\n",
       "      <td>7.8</td>\n",
       "      <td>NaN</td>\n",
       "      <td>NaN</td>\n",
       "      <td>NaN</td>\n",
       "      <td>4.75</td>\n",
       "      <td>6.75</td>\n",
       "      <td>8.25</td>\n",
       "      <td>N1</td>\n",
       "    </tr>\n",
       "  </tbody>\n",
       "</table>\n",
       "</div>"
      ],
      "text/plain": [
       "       sbd  toan  ngu_van  ngoai_ngu  vat_li  hoa_hoc  sinh_hoc  lich_su  \\\n",
       "0  1000001   8.4     8.50        9.2     NaN      NaN       NaN     6.75   \n",
       "1  1000002   7.2     8.50        9.2     NaN      NaN       NaN     8.75   \n",
       "2  1000003   NaN     6.50        NaN     NaN      NaN       NaN     9.25   \n",
       "3  1000004   7.8     8.25        7.8     NaN      NaN       NaN     4.50   \n",
       "4  1000005   7.2     8.00        7.8     NaN      NaN       NaN     4.75   \n",
       "\n",
       "   dia_li  gdcd ma_ngoai_ngu  \n",
       "0    6.00  9.00           N1  \n",
       "1    6.50  8.50           N1  \n",
       "2    7.50   NaN          NaN  \n",
       "3    6.25  8.25           N1  \n",
       "4    6.75  8.25           N1  "
      ]
     },
     "execution_count": 10,
     "metadata": {},
     "output_type": "execute_result"
    }
   ],
   "source": [
    "df_2023.head()"
   ]
  },
  {
   "cell_type": "code",
   "execution_count": 11,
   "metadata": {
    "colab": {
     "base_uri": "https://localhost:8080/",
     "height": 226
    },
    "executionInfo": {
     "elapsed": 32,
     "status": "ok",
     "timestamp": 1742782903113,
     "user": {
      "displayName": "tran minh thuan",
      "userId": "06896544119676718798"
     },
     "user_tz": -420
    },
    "id": "mHIMkmWBSuA5",
    "outputId": "058b80bc-017c-4693-8e41-a3fa24ae916a"
   },
   "outputs": [
    {
     "data": {
      "application/vnd.microsoft.datawrangler.viewer.v0+json": {
       "columns": [
        {
         "name": "index",
         "rawType": "int64",
         "type": "integer"
        },
        {
         "name": "sbd",
         "rawType": "int64",
         "type": "integer"
        },
        {
         "name": "toan",
         "rawType": "float64",
         "type": "float"
        },
        {
         "name": "ngu_van",
         "rawType": "float64",
         "type": "float"
        },
        {
         "name": "ngoai_ngu",
         "rawType": "float64",
         "type": "float"
        },
        {
         "name": "vat_li",
         "rawType": "float64",
         "type": "float"
        },
        {
         "name": "hoa_hoc",
         "rawType": "float64",
         "type": "float"
        },
        {
         "name": "sinh_hoc",
         "rawType": "float64",
         "type": "float"
        },
        {
         "name": "lich_su",
         "rawType": "float64",
         "type": "float"
        },
        {
         "name": "dia_li",
         "rawType": "float64",
         "type": "float"
        },
        {
         "name": "gdcd",
         "rawType": "float64",
         "type": "float"
        },
        {
         "name": "ma_ngoai_ngu",
         "rawType": "object",
         "type": "string"
        }
       ],
       "conversionMethod": "pd.DataFrame",
       "ref": "c0059d5d-b437-4300-ab80-2c361cf9bd2d",
       "rows": [
        [
         "0",
         "1000001",
         "8.4",
         "6.75",
         "8.0",
         "6.0",
         "5.25",
         "5.0",
         null,
         null,
         null,
         "N1"
        ],
        [
         "1",
         "1000002",
         "8.6",
         "8.5",
         "7.2",
         null,
         null,
         null,
         "7.25",
         "6.0",
         "8.0",
         "N1"
        ],
        [
         "2",
         "1000003",
         "8.2",
         "8.75",
         "8.2",
         null,
         null,
         null,
         "7.25",
         "7.25",
         "8.75",
         "N1"
        ],
        [
         "3",
         "1000004",
         "4.8",
         "8.5",
         "7.4",
         null,
         null,
         null,
         "7.0",
         "6.0",
         "7.5",
         "N1"
        ],
        [
         "4",
         "1000005",
         "8.6",
         "9.0",
         "7.8",
         null,
         null,
         null,
         "9.0",
         "8.75",
         "8.5",
         "N1"
        ]
       ],
       "shape": {
        "columns": 11,
        "rows": 5
       }
      },
      "text/html": [
       "<div>\n",
       "<style scoped>\n",
       "    .dataframe tbody tr th:only-of-type {\n",
       "        vertical-align: middle;\n",
       "    }\n",
       "\n",
       "    .dataframe tbody tr th {\n",
       "        vertical-align: top;\n",
       "    }\n",
       "\n",
       "    .dataframe thead th {\n",
       "        text-align: right;\n",
       "    }\n",
       "</style>\n",
       "<table border=\"1\" class=\"dataframe\">\n",
       "  <thead>\n",
       "    <tr style=\"text-align: right;\">\n",
       "      <th></th>\n",
       "      <th>sbd</th>\n",
       "      <th>toan</th>\n",
       "      <th>ngu_van</th>\n",
       "      <th>ngoai_ngu</th>\n",
       "      <th>vat_li</th>\n",
       "      <th>hoa_hoc</th>\n",
       "      <th>sinh_hoc</th>\n",
       "      <th>lich_su</th>\n",
       "      <th>dia_li</th>\n",
       "      <th>gdcd</th>\n",
       "      <th>ma_ngoai_ngu</th>\n",
       "    </tr>\n",
       "  </thead>\n",
       "  <tbody>\n",
       "    <tr>\n",
       "      <th>0</th>\n",
       "      <td>1000001</td>\n",
       "      <td>8.4</td>\n",
       "      <td>6.75</td>\n",
       "      <td>8.0</td>\n",
       "      <td>6.0</td>\n",
       "      <td>5.25</td>\n",
       "      <td>5.0</td>\n",
       "      <td>NaN</td>\n",
       "      <td>NaN</td>\n",
       "      <td>NaN</td>\n",
       "      <td>N1</td>\n",
       "    </tr>\n",
       "    <tr>\n",
       "      <th>1</th>\n",
       "      <td>1000002</td>\n",
       "      <td>8.6</td>\n",
       "      <td>8.50</td>\n",
       "      <td>7.2</td>\n",
       "      <td>NaN</td>\n",
       "      <td>NaN</td>\n",
       "      <td>NaN</td>\n",
       "      <td>7.25</td>\n",
       "      <td>6.00</td>\n",
       "      <td>8.00</td>\n",
       "      <td>N1</td>\n",
       "    </tr>\n",
       "    <tr>\n",
       "      <th>2</th>\n",
       "      <td>1000003</td>\n",
       "      <td>8.2</td>\n",
       "      <td>8.75</td>\n",
       "      <td>8.2</td>\n",
       "      <td>NaN</td>\n",
       "      <td>NaN</td>\n",
       "      <td>NaN</td>\n",
       "      <td>7.25</td>\n",
       "      <td>7.25</td>\n",
       "      <td>8.75</td>\n",
       "      <td>N1</td>\n",
       "    </tr>\n",
       "    <tr>\n",
       "      <th>3</th>\n",
       "      <td>1000004</td>\n",
       "      <td>4.8</td>\n",
       "      <td>8.50</td>\n",
       "      <td>7.4</td>\n",
       "      <td>NaN</td>\n",
       "      <td>NaN</td>\n",
       "      <td>NaN</td>\n",
       "      <td>7.00</td>\n",
       "      <td>6.00</td>\n",
       "      <td>7.50</td>\n",
       "      <td>N1</td>\n",
       "    </tr>\n",
       "    <tr>\n",
       "      <th>4</th>\n",
       "      <td>1000005</td>\n",
       "      <td>8.6</td>\n",
       "      <td>9.00</td>\n",
       "      <td>7.8</td>\n",
       "      <td>NaN</td>\n",
       "      <td>NaN</td>\n",
       "      <td>NaN</td>\n",
       "      <td>9.00</td>\n",
       "      <td>8.75</td>\n",
       "      <td>8.50</td>\n",
       "      <td>N1</td>\n",
       "    </tr>\n",
       "  </tbody>\n",
       "</table>\n",
       "</div>"
      ],
      "text/plain": [
       "       sbd  toan  ngu_van  ngoai_ngu  vat_li  hoa_hoc  sinh_hoc  lich_su  \\\n",
       "0  1000001   8.4     6.75        8.0     6.0     5.25       5.0      NaN   \n",
       "1  1000002   8.6     8.50        7.2     NaN      NaN       NaN     7.25   \n",
       "2  1000003   8.2     8.75        8.2     NaN      NaN       NaN     7.25   \n",
       "3  1000004   4.8     8.50        7.4     NaN      NaN       NaN     7.00   \n",
       "4  1000005   8.6     9.00        7.8     NaN      NaN       NaN     9.00   \n",
       "\n",
       "   dia_li  gdcd ma_ngoai_ngu  \n",
       "0     NaN   NaN           N1  \n",
       "1    6.00  8.00           N1  \n",
       "2    7.25  8.75           N1  \n",
       "3    6.00  7.50           N1  \n",
       "4    8.75  8.50           N1  "
      ]
     },
     "execution_count": 11,
     "metadata": {},
     "output_type": "execute_result"
    }
   ],
   "source": [
    "df_2024.head()"
   ]
  },
  {
   "cell_type": "code",
   "execution_count": 12,
   "metadata": {
    "colab": {
     "base_uri": "https://localhost:8080/"
    },
    "executionInfo": {
     "elapsed": 1512,
     "status": "ok",
     "timestamp": 1742782904627,
     "user": {
      "displayName": "tran minh thuan",
      "userId": "06896544119676718798"
     },
     "user_tz": -420
    },
    "id": "FxikrbC1y3bc",
    "outputId": "16c1facd-8612-4e87-d390-ac3a3ce5d703"
   },
   "outputs": [
    {
     "name": "stdout",
     "output_type": "stream",
     "text": [
      "<class 'pandas.core.frame.DataFrame'>\n",
      "RangeIndex: 870486 entries, 0 to 870485\n",
      "Data columns (total 14 columns):\n",
      " #   Column      Non-Null Count   Dtype  \n",
      "---  ------      --------------   -----  \n",
      " 0   Unnamed: 0  870486 non-null  int64  \n",
      " 1   sbd         870486 non-null  int64  \n",
      " 2   ten         0 non-null       float64\n",
      " 3   ngay_sinh   0 non-null       float64\n",
      " 4   gioi_tinh   0 non-null       float64\n",
      " 5   toan        866581 non-null  float64\n",
      " 6   ngu_van     856565 non-null  float64\n",
      " 7   vat_li      293287 non-null  float64\n",
      " 8   hoa_hoc     295536 non-null  float64\n",
      " 9   sinh_hoc    290377 non-null  float64\n",
      " 10  lich_su     568581 non-null  float64\n",
      " 11  dia_li      555072 non-null  float64\n",
      " 12  gdcd        482980 non-null  float64\n",
      " 13  ngoai_ngu   772098 non-null  float64\n",
      "dtypes: float64(12), int64(2)\n",
      "memory usage: 93.0 MB\n",
      "<class 'pandas.core.frame.DataFrame'>\n",
      "RangeIndex: 987391 entries, 0 to 987390\n",
      "Data columns (total 14 columns):\n",
      " #   Column      Non-Null Count   Dtype  \n",
      "---  ------      --------------   -----  \n",
      " 0   Unnamed: 0  987391 non-null  int64  \n",
      " 1   sbd         987391 non-null  int64  \n",
      " 2   ten         86367 non-null   object \n",
      " 3   ngay_sinh   86359 non-null   object \n",
      " 4   gioi_tinh   86367 non-null   object \n",
      " 5   toan        977151 non-null  float64\n",
      " 6   ngu_van     974146 non-null  float64\n",
      " 7   vat_li      345024 non-null  float64\n",
      " 8   hoa_hoc     346650 non-null  float64\n",
      " 9   sinh_hoc    341241 non-null  float64\n",
      " 10  lich_su     634465 non-null  float64\n",
      " 11  dia_li      628649 non-null  float64\n",
      " 12  gdcd        532021 non-null  float64\n",
      " 13  ngoai_ngu   868006 non-null  float64\n",
      "dtypes: float64(9), int64(2), object(3)\n",
      "memory usage: 105.5+ MB\n",
      "<class 'pandas.core.frame.DataFrame'>\n",
      "RangeIndex: 995441 entries, 0 to 995440\n",
      "Data columns (total 10 columns):\n",
      " #   Column     Non-Null Count   Dtype  \n",
      "---  ------     --------------   -----  \n",
      " 0   sbd        995441 non-null  int64  \n",
      " 1   toan       982726 non-null  float64\n",
      " 2   ngu_van    981407 non-null  float64\n",
      " 3   ngoai_ngu  870609 non-null  float64\n",
      " 4   vat_li     325523 non-null  float64\n",
      " 5   hoa_hoc    327367 non-null  float64\n",
      " 6   sinh_hoc   322198 non-null  float64\n",
      " 7   lich_su    659662 non-null  float64\n",
      " 8   dia_li     657421 non-null  float64\n",
      " 9   gdcd       554343 non-null  float64\n",
      "dtypes: float64(9), int64(1)\n",
      "memory usage: 75.9 MB\n",
      "<class 'pandas.core.frame.DataFrame'>\n",
      "RangeIndex: 1022060 entries, 0 to 1022059\n",
      "Data columns (total 11 columns):\n",
      " #   Column        Non-Null Count    Dtype  \n",
      "---  ------        --------------    -----  \n",
      " 0   sbd           1022060 non-null  int64  \n",
      " 1   toan          1003373 non-null  float64\n",
      " 2   ngu_van       1008239 non-null  float64\n",
      " 3   ngoai_ngu     880997 non-null   float64\n",
      " 4   vat_li        327189 non-null   float64\n",
      " 5   hoa_hoc       328118 non-null   float64\n",
      " 6   sinh_hoc      324625 non-null   float64\n",
      " 7   lich_su       683447 non-null   float64\n",
      " 8   dia_li        682134 non-null   float64\n",
      " 9   gdcd          565452 non-null   float64\n",
      " 10  ma_ngoai_ngu  880997 non-null   object \n",
      "dtypes: float64(9), int64(1), object(1)\n",
      "memory usage: 85.8+ MB\n",
      "<class 'pandas.core.frame.DataFrame'>\n",
      "RangeIndex: 1061605 entries, 0 to 1061604\n",
      "Data columns (total 11 columns):\n",
      " #   Column        Non-Null Count    Dtype  \n",
      "---  ------        --------------    -----  \n",
      " 0   sbd           1061605 non-null  int64  \n",
      " 1   toan          1045613 non-null  float64\n",
      " 2   ngu_van       1050101 non-null  float64\n",
      " 3   ngoai_ngu     912705 non-null   float64\n",
      " 4   vat_li        345615 non-null   float64\n",
      " 5   hoa_hoc       346518 non-null   float64\n",
      " 6   sinh_hoc      342378 non-null   float64\n",
      " 7   lich_su       706214 non-null   float64\n",
      " 8   dia_li        704682 non-null   float64\n",
      " 9   gdcd          583609 non-null   float64\n",
      " 10  ma_ngoai_ngu  912705 non-null   object \n",
      "dtypes: float64(9), int64(1), object(1)\n",
      "memory usage: 89.1+ MB\n"
     ]
    }
   ],
   "source": [
    "df_2020.info()\n",
    "df_2021.info()\n",
    "df_2022.info()\n",
    "df_2023.info()\n",
    "df_2024.info()"
   ]
  },
  {
   "cell_type": "markdown",
   "metadata": {
    "id": "AmWnSVK9y9ba"
   },
   "source": [
    "\n",
    "### Giảm số cột qua các năm: 2020 & 2021 có 14 cột, nhưng từ 2022 chỉ còn 10-11 cột.\n",
    "### năm 2020 cột \"ten\", \"ngay_sinh\", \"gioi_tinh\" hoàn toàn rỗng\n",
    "### Năm 2021 cột \"ten\", \"ngay_sinh\", \"gioi_tinh\" đã có dữ liệu\n",
    "### Năm 2022 Bị loại bỏ cột: Không còn \"ten\", \"ngay_sinh\", \"gioi_tinh\".\n",
    "### Năm 2023 Giảm xuống còn 10 cột, không có \"ma_ngoai_ngu\".\n",
    "### Năm 2024 Tương tự 2022, có \"ma_ngoai_ngu\".\n",
    "### kiểu dữ liệu đáng chú ý: 2020: \"ten\", \"ngay_sinh\", \"gioi_tinh\" hoàn ### toàn NULL, để dạng float64.\n",
    "### 2021: Thêm thông tin cá nhân với kiểu object.\n",
    "### 2022 trở đi: Bỏ thông tin cá nhân, thay vào đó có \"ma_ngoai_ngu\""
   ]
  },
  {
   "cell_type": "code",
   "execution_count": 13,
   "metadata": {
    "executionInfo": {
     "elapsed": 4,
     "status": "ok",
     "timestamp": 1742782904628,
     "user": {
      "displayName": "tran minh thuan",
      "userId": "06896544119676718798"
     },
     "user_tz": -420
    },
    "id": "sARDsVIlsau5"
   },
   "outputs": [],
   "source": [
    "rows_2020, columns_2020 = df_2020.shape"
   ]
  },
  {
   "cell_type": "code",
   "execution_count": 14,
   "metadata": {
    "executionInfo": {
     "elapsed": 3,
     "status": "ok",
     "timestamp": 1742782904629,
     "user": {
      "displayName": "tran minh thuan",
      "userId": "06896544119676718798"
     },
     "user_tz": -420
    },
    "id": "iU72tmGgr1iW"
   },
   "outputs": [],
   "source": [
    "rows_2021, columns_2021 = df_2021.shape"
   ]
  },
  {
   "cell_type": "code",
   "execution_count": 15,
   "metadata": {
    "executionInfo": {
     "elapsed": 8,
     "status": "ok",
     "timestamp": 1742782904638,
     "user": {
      "displayName": "tran minh thuan",
      "userId": "06896544119676718798"
     },
     "user_tz": -420
    },
    "id": "fUg7mVnsr1YQ"
   },
   "outputs": [],
   "source": [
    "rows_2022, columns_2022 = df_2022.shape"
   ]
  },
  {
   "cell_type": "code",
   "execution_count": 16,
   "metadata": {
    "executionInfo": {
     "elapsed": 2,
     "status": "ok",
     "timestamp": 1742782904642,
     "user": {
      "displayName": "tran minh thuan",
      "userId": "06896544119676718798"
     },
     "user_tz": -420
    },
    "id": "d-b1Jyvhr0_0"
   },
   "outputs": [],
   "source": [
    "rows_2023, columns_2023 = df_2023.shape"
   ]
  },
  {
   "cell_type": "code",
   "execution_count": 17,
   "metadata": {
    "executionInfo": {
     "elapsed": 9,
     "status": "ok",
     "timestamp": 1742782904652,
     "user": {
      "displayName": "tran minh thuan",
      "userId": "06896544119676718798"
     },
     "user_tz": -420
    },
    "id": "1WYHGrkDrpjW"
   },
   "outputs": [],
   "source": [
    "rows_2024, columns_2024 = df_2024.shape"
   ]
  },
  {
   "cell_type": "code",
   "execution_count": 18,
   "metadata": {
    "colab": {
     "base_uri": "https://localhost:8080/",
     "height": 244
    },
    "executionInfo": {
     "elapsed": 672,
     "status": "ok",
     "timestamp": 1742782905326,
     "user": {
      "displayName": "tran minh thuan",
      "userId": "06896544119676718798"
     },
     "user_tz": -420
    },
    "id": "ATA7BZXYxXvH",
    "outputId": "21b00ea2-6f0c-4dd8-fc43-1b4ade976e8c"
   },
   "outputs": [
    {
     "data": {
      "application/vnd.microsoft.datawrangler.viewer.v0+json": {
       "columns": [
        {
         "name": "index",
         "rawType": "int64",
         "type": "integer"
        },
        {
         "name": "Unnamed: 0",
         "rawType": "float64",
         "type": "float"
        },
        {
         "name": "sbd",
         "rawType": "int64",
         "type": "integer"
        },
        {
         "name": "ten",
         "rawType": "object",
         "type": "unknown"
        },
        {
         "name": "ngay_sinh",
         "rawType": "object",
         "type": "unknown"
        },
        {
         "name": "gioi_tinh",
         "rawType": "object",
         "type": "unknown"
        },
        {
         "name": "toan",
         "rawType": "float64",
         "type": "float"
        },
        {
         "name": "ngu_van",
         "rawType": "float64",
         "type": "float"
        },
        {
         "name": "vat_li",
         "rawType": "float64",
         "type": "float"
        },
        {
         "name": "hoa_hoc",
         "rawType": "float64",
         "type": "float"
        },
        {
         "name": "sinh_hoc",
         "rawType": "float64",
         "type": "float"
        },
        {
         "name": "lich_su",
         "rawType": "float64",
         "type": "float"
        },
        {
         "name": "dia_li",
         "rawType": "float64",
         "type": "float"
        },
        {
         "name": "gdcd",
         "rawType": "float64",
         "type": "float"
        },
        {
         "name": "ngoai_ngu",
         "rawType": "float64",
         "type": "float"
        },
        {
         "name": "ma_ngoai_ngu",
         "rawType": "object",
         "type": "unknown"
        }
       ],
       "conversionMethod": "pd.DataFrame",
       "ref": "e5fe31de-3774-4e56-927b-d1854d034a91",
       "rows": [
        [
         "0",
         "0.0",
         "18014547",
         null,
         null,
         null,
         "6.4",
         "6.75",
         null,
         null,
         null,
         "4.75",
         "7.0",
         "6.5",
         "4.2",
         null
        ],
        [
         "1",
         "1.0",
         "18014530",
         null,
         null,
         null,
         "7.6",
         "6.0",
         null,
         null,
         null,
         "3.75",
         "7.75",
         "7.75",
         "2.8",
         null
        ],
        [
         "2",
         "2.0",
         "18014521",
         null,
         null,
         null,
         "4.8",
         "4.75",
         null,
         null,
         null,
         "4.0",
         "6.5",
         null,
         null,
         null
        ],
        [
         "3",
         "3.0",
         "18014517",
         null,
         null,
         null,
         "8.0",
         "7.0",
         null,
         null,
         null,
         "8.25",
         "8.0",
         "9.5",
         "5.8",
         null
        ],
        [
         "4",
         "4.0",
         "18014523",
         null,
         null,
         null,
         "8.2",
         "6.5",
         "8.0",
         "8.5",
         "5.0",
         null,
         null,
         null,
         "4.0",
         null
        ]
       ],
       "shape": {
        "columns": 15,
        "rows": 5
       }
      },
      "text/html": [
       "<div>\n",
       "<style scoped>\n",
       "    .dataframe tbody tr th:only-of-type {\n",
       "        vertical-align: middle;\n",
       "    }\n",
       "\n",
       "    .dataframe tbody tr th {\n",
       "        vertical-align: top;\n",
       "    }\n",
       "\n",
       "    .dataframe thead th {\n",
       "        text-align: right;\n",
       "    }\n",
       "</style>\n",
       "<table border=\"1\" class=\"dataframe\">\n",
       "  <thead>\n",
       "    <tr style=\"text-align: right;\">\n",
       "      <th></th>\n",
       "      <th>Unnamed: 0</th>\n",
       "      <th>sbd</th>\n",
       "      <th>ten</th>\n",
       "      <th>ngay_sinh</th>\n",
       "      <th>gioi_tinh</th>\n",
       "      <th>toan</th>\n",
       "      <th>ngu_van</th>\n",
       "      <th>vat_li</th>\n",
       "      <th>hoa_hoc</th>\n",
       "      <th>sinh_hoc</th>\n",
       "      <th>lich_su</th>\n",
       "      <th>dia_li</th>\n",
       "      <th>gdcd</th>\n",
       "      <th>ngoai_ngu</th>\n",
       "      <th>ma_ngoai_ngu</th>\n",
       "    </tr>\n",
       "  </thead>\n",
       "  <tbody>\n",
       "    <tr>\n",
       "      <th>0</th>\n",
       "      <td>0.0</td>\n",
       "      <td>18014547</td>\n",
       "      <td>NaN</td>\n",
       "      <td>NaN</td>\n",
       "      <td>NaN</td>\n",
       "      <td>6.4</td>\n",
       "      <td>6.75</td>\n",
       "      <td>NaN</td>\n",
       "      <td>NaN</td>\n",
       "      <td>NaN</td>\n",
       "      <td>4.75</td>\n",
       "      <td>7.00</td>\n",
       "      <td>6.50</td>\n",
       "      <td>4.2</td>\n",
       "      <td>NaN</td>\n",
       "    </tr>\n",
       "    <tr>\n",
       "      <th>1</th>\n",
       "      <td>1.0</td>\n",
       "      <td>18014530</td>\n",
       "      <td>NaN</td>\n",
       "      <td>NaN</td>\n",
       "      <td>NaN</td>\n",
       "      <td>7.6</td>\n",
       "      <td>6.00</td>\n",
       "      <td>NaN</td>\n",
       "      <td>NaN</td>\n",
       "      <td>NaN</td>\n",
       "      <td>3.75</td>\n",
       "      <td>7.75</td>\n",
       "      <td>7.75</td>\n",
       "      <td>2.8</td>\n",
       "      <td>NaN</td>\n",
       "    </tr>\n",
       "    <tr>\n",
       "      <th>2</th>\n",
       "      <td>2.0</td>\n",
       "      <td>18014521</td>\n",
       "      <td>NaN</td>\n",
       "      <td>NaN</td>\n",
       "      <td>NaN</td>\n",
       "      <td>4.8</td>\n",
       "      <td>4.75</td>\n",
       "      <td>NaN</td>\n",
       "      <td>NaN</td>\n",
       "      <td>NaN</td>\n",
       "      <td>4.00</td>\n",
       "      <td>6.50</td>\n",
       "      <td>NaN</td>\n",
       "      <td>NaN</td>\n",
       "      <td>NaN</td>\n",
       "    </tr>\n",
       "    <tr>\n",
       "      <th>3</th>\n",
       "      <td>3.0</td>\n",
       "      <td>18014517</td>\n",
       "      <td>NaN</td>\n",
       "      <td>NaN</td>\n",
       "      <td>NaN</td>\n",
       "      <td>8.0</td>\n",
       "      <td>7.00</td>\n",
       "      <td>NaN</td>\n",
       "      <td>NaN</td>\n",
       "      <td>NaN</td>\n",
       "      <td>8.25</td>\n",
       "      <td>8.00</td>\n",
       "      <td>9.50</td>\n",
       "      <td>5.8</td>\n",
       "      <td>NaN</td>\n",
       "    </tr>\n",
       "    <tr>\n",
       "      <th>4</th>\n",
       "      <td>4.0</td>\n",
       "      <td>18014523</td>\n",
       "      <td>NaN</td>\n",
       "      <td>NaN</td>\n",
       "      <td>NaN</td>\n",
       "      <td>8.2</td>\n",
       "      <td>6.50</td>\n",
       "      <td>8.0</td>\n",
       "      <td>8.5</td>\n",
       "      <td>5.0</td>\n",
       "      <td>NaN</td>\n",
       "      <td>NaN</td>\n",
       "      <td>NaN</td>\n",
       "      <td>4.0</td>\n",
       "      <td>NaN</td>\n",
       "    </tr>\n",
       "  </tbody>\n",
       "</table>\n",
       "</div>"
      ],
      "text/plain": [
       "   Unnamed: 0       sbd  ten ngay_sinh gioi_tinh  toan  ngu_van  vat_li  \\\n",
       "0         0.0  18014547  NaN       NaN       NaN   6.4     6.75     NaN   \n",
       "1         1.0  18014530  NaN       NaN       NaN   7.6     6.00     NaN   \n",
       "2         2.0  18014521  NaN       NaN       NaN   4.8     4.75     NaN   \n",
       "3         3.0  18014517  NaN       NaN       NaN   8.0     7.00     NaN   \n",
       "4         4.0  18014523  NaN       NaN       NaN   8.2     6.50     8.0   \n",
       "\n",
       "   hoa_hoc  sinh_hoc  lich_su  dia_li  gdcd  ngoai_ngu ma_ngoai_ngu  \n",
       "0      NaN       NaN     4.75    7.00  6.50        4.2          NaN  \n",
       "1      NaN       NaN     3.75    7.75  7.75        2.8          NaN  \n",
       "2      NaN       NaN     4.00    6.50   NaN        NaN          NaN  \n",
       "3      NaN       NaN     8.25    8.00  9.50        5.8          NaN  \n",
       "4      8.5       5.0      NaN     NaN   NaN        4.0          NaN  "
      ]
     },
     "execution_count": 18,
     "metadata": {},
     "output_type": "execute_result"
    }
   ],
   "source": [
    "df = pd.concat([df_2020, df_2021, df_2022,df_2023,df_2024], ignore_index=True)\n",
    "df.head()"
   ]
  },
  {
   "cell_type": "code",
   "execution_count": 19,
   "metadata": {
    "colab": {
     "base_uri": "https://localhost:8080/",
     "height": 575
    },
    "executionInfo": {
     "elapsed": 714,
     "status": "ok",
     "timestamp": 1742782906044,
     "user": {
      "displayName": "tran minh thuan",
      "userId": "06896544119676718798"
     },
     "user_tz": -420
    },
    "id": "H25K-bSDxAsl",
    "outputId": "4ea9b670-0bc7-40a4-84af-5ad40a065220"
   },
   "outputs": [
    {
     "data": {
      "text/plain": [
       "Unnamed: 0      3079106\n",
       "sbd                   0\n",
       "ten             4850616\n",
       "ngay_sinh       4850624\n",
       "gioi_tinh       4850616\n",
       "toan              61539\n",
       "ngu_van           66525\n",
       "vat_li          3300345\n",
       "hoa_hoc         3292794\n",
       "sinh_hoc        3316164\n",
       "lich_su         1684614\n",
       "dia_li          1709025\n",
       "gdcd            2218578\n",
       "ngoai_ngu        632568\n",
       "ma_ngoai_ngu    3143281\n",
       "dtype: int64"
      ]
     },
     "execution_count": 19,
     "metadata": {},
     "output_type": "execute_result"
    }
   ],
   "source": [
    "df.isnull().sum()"
   ]
  },
  {
   "cell_type": "markdown",
   "metadata": {
    "id": "kGHVr2sl3PDJ"
   },
   "source": [
    "# Nhận xét kiểm tra tính đầy đủ dữ liệu\n",
    "### Các môn tự nhiên (Vật lý, Hóa, Sinh) luôn có nhiều giá trị NULL vì chỉ một phần học sinh chọn thi khối này.\n",
    "### Ngoại ngữ có số lượng NULL lớn (vì có thể có thí sinh không thi hoặc thi bằng các hình thức khác).\n",
    "### GDCD, Lịch sử, Địa lý cũng có nhiều NULL, tương tự môn tự nhiên\n"
   ]
  },
  {
   "cell_type": "code",
   "execution_count": 20,
   "metadata": {
    "colab": {
     "base_uri": "https://localhost:8080/"
    },
    "executionInfo": {
     "elapsed": 2044,
     "status": "ok",
     "timestamp": 1742782908090,
     "user": {
      "displayName": "tran minh thuan",
      "userId": "06896544119676718798"
     },
     "user_tz": -420
    },
    "id": "0ny5yIaLxzOG",
    "outputId": "d7f85a13-829f-466c-842f-b595ab1d1843"
   },
   "outputs": [
    {
     "name": "stderr",
     "output_type": "stream",
     "text": [
      "/tmp/ipykernel_149794/201493634.py:4: FutureWarning: A value is trying to be set on a copy of a DataFrame or Series through chained assignment using an inplace method.\n",
      "The behavior will change in pandas 3.0. This inplace method will never work because the intermediate object on which we are setting values always behaves as a copy.\n",
      "\n",
      "For example, when doing 'df[col].method(value, inplace=True)', try using 'df.method({col: value}, inplace=True)' or df[col] = df[col].method(value) instead, to perform the operation inplace on the original object.\n",
      "\n",
      "\n",
      "  df[column].fillna(0.0, inplace=True)\n"
     ]
    }
   ],
   "source": [
    "# Xử lí các cột dữ liệu rỗng\n",
    "for column in df.columns:\n",
    "  if column != 'ma_ngoai_ngu':\n",
    "    df[column].fillna(0.0, inplace=True)\n"
   ]
  },
  {
   "cell_type": "code",
   "execution_count": 21,
   "metadata": {
    "colab": {
     "base_uri": "https://localhost:8080/",
     "height": 575
    },
    "executionInfo": {
     "elapsed": 481,
     "status": "ok",
     "timestamp": 1742782908573,
     "user": {
      "displayName": "tran minh thuan",
      "userId": "06896544119676718798"
     },
     "user_tz": -420
    },
    "id": "zU6gsuThyHX7",
    "outputId": "81561019-9487-4250-b115-ae4f4c3b578a"
   },
   "outputs": [
    {
     "data": {
      "text/plain": [
       "Unnamed: 0            0\n",
       "sbd                   0\n",
       "ten                   0\n",
       "ngay_sinh             0\n",
       "gioi_tinh             0\n",
       "toan                  0\n",
       "ngu_van               0\n",
       "vat_li                0\n",
       "hoa_hoc               0\n",
       "sinh_hoc              0\n",
       "lich_su               0\n",
       "dia_li                0\n",
       "gdcd                  0\n",
       "ngoai_ngu             0\n",
       "ma_ngoai_ngu    3143281\n",
       "dtype: int64"
      ]
     },
     "execution_count": 21,
     "metadata": {},
     "output_type": "execute_result"
    }
   ],
   "source": [
    "df.isnull().sum()"
   ]
  },
  {
   "cell_type": "code",
   "execution_count": 22,
   "metadata": {
    "executionInfo": {
     "elapsed": 3,
     "status": "ok",
     "timestamp": 1742782908578,
     "user": {
      "displayName": "tran minh thuan",
      "userId": "06896544119676718798"
     },
     "user_tz": -420
    },
    "id": "TZk75OdxyiCD"
   },
   "outputs": [],
   "source": [
    "# prompt: drop \"ma_ngoai_ngu\"\n",
    "\n",
    "if 'ma_ngoai_ngu' in df.columns:\n",
    "  df = df.drop('ma_ngoai_ngu', axis=1)\n"
   ]
  },
  {
   "cell_type": "code",
   "execution_count": 23,
   "metadata": {
    "colab": {
     "base_uri": "https://localhost:8080/"
    },
    "executionInfo": {
     "elapsed": 70,
     "status": "ok",
     "timestamp": 1742782908651,
     "user": {
      "displayName": "tran minh thuan",
      "userId": "06896544119676718798"
     },
     "user_tz": -420
    },
    "id": "Sn3Y_P4cydzy",
    "outputId": "baa9c7d7-704c-43b8-b8cb-8a42282eccb2"
   },
   "outputs": [
    {
     "name": "stdout",
     "output_type": "stream",
     "text": [
      "<class 'pandas.core.frame.DataFrame'>\n",
      "RangeIndex: 4936983 entries, 0 to 4936982\n",
      "Data columns (total 14 columns):\n",
      " #   Column      Dtype  \n",
      "---  ------      -----  \n",
      " 0   Unnamed: 0  float64\n",
      " 1   sbd         int64  \n",
      " 2   ten         object \n",
      " 3   ngay_sinh   object \n",
      " 4   gioi_tinh   object \n",
      " 5   toan        float64\n",
      " 6   ngu_van     float64\n",
      " 7   vat_li      float64\n",
      " 8   hoa_hoc     float64\n",
      " 9   sinh_hoc    float64\n",
      " 10  lich_su     float64\n",
      " 11  dia_li      float64\n",
      " 12  gdcd        float64\n",
      " 13  ngoai_ngu   float64\n",
      "dtypes: float64(10), int64(1), object(3)\n",
      "memory usage: 527.3+ MB\n"
     ]
    }
   ],
   "source": [
    "df.info()"
   ]
  },
  {
   "cell_type": "code",
   "execution_count": 24,
   "metadata": {
    "colab": {
     "base_uri": "https://localhost:8080/"
    },
    "executionInfo": {
     "elapsed": 1141,
     "status": "ok",
     "timestamp": 1742782909793,
     "user": {
      "displayName": "tran minh thuan",
      "userId": "06896544119676718798"
     },
     "user_tz": -420
    },
    "id": "bRWvnsJczH0-",
    "outputId": "00eb91fc-fbc0-48c5-ac7b-ac37c443363c"
   },
   "outputs": [
    {
     "name": "stdout",
     "output_type": "stream",
     "text": [
      "toan: 6.482249606701357\n",
      "ngu_van: 6.74548929566598\n",
      "ngoai_ngu: 5.331584307883739\n",
      "vat_li: 6.647423073797462\n",
      "hoa_hoc: 6.69188051161\n",
      "sinh_hoc: 5.769349736314549\n",
      "lich_su: 5.855458956552432\n",
      "dia_li: 6.7498758357270265\n",
      "gdcd: 8.196252835904026\n"
     ]
    }
   ],
   "source": [
    "subject_columns = ['toan', 'ngu_van', 'ngoai_ngu', 'vat_li', 'hoa_hoc', 'sinh_hoc', 'lich_su', 'dia_li', 'gdcd']\n",
    "\n",
    "average_scores = {}  # Dictionary to store average scores\n",
    "\n",
    "for subject in subject_columns:\n",
    "  average_scores[subject] = df[subject].where(df[subject] != 0.0).mean()\n",
    "\n",
    "# Print the average scores\n",
    "for subject, average in average_scores.items():\n",
    "  print(f\"{subject}: {average}\")"
   ]
  },
  {
   "cell_type": "markdown",
   "metadata": {
    "id": "Ayoy0CpDzR99"
   },
   "source": [
    "## Như vậy điểm Ngoại Ngữ là thấp nhất, điểm GDCD là cao nhất"
   ]
  },
  {
   "cell_type": "code",
   "execution_count": 25,
   "metadata": {
    "colab": {
     "base_uri": "https://localhost:8080/"
    },
    "executionInfo": {
     "elapsed": 1670,
     "status": "ok",
     "timestamp": 1742782911461,
     "user": {
      "displayName": "tran minh thuan",
      "userId": "06896544119676718798"
     },
     "user_tz": -420
    },
    "id": "78PAs_t6zat-",
    "outputId": "49e428f3-a18f-4de5-a0b2-1d3d70958b8c"
   },
   "outputs": [
    {
     "name": "stdout",
     "output_type": "stream",
     "text": [
      "              sbd  tong_diem\n",
      "0        18014547      35.60\n",
      "1        18014530      35.65\n",
      "2        18014521      20.05\n",
      "3        18014517      46.55\n",
      "4        18014523      40.20\n",
      "...           ...        ...\n",
      "4936978  64007282      32.20\n",
      "4936979  64007283      34.55\n",
      "4936980  64007284      43.45\n",
      "4936981  64007285      34.85\n",
      "4936982  64007286      37.35\n",
      "\n",
      "[4936983 rows x 2 columns]\n"
     ]
    }
   ],
   "source": [
    "# prompt: Tính tổng điểm của từng học sinh\n",
    "\n",
    "# Tính tổng điểm cho từng học sinh\n",
    "df['tong_diem'] = df[subject_columns].sum(axis=1)\n",
    "\n",
    "# In ra tổng điểm của từng học sinh\n",
    "print(df[['sbd', 'tong_diem']])\n"
   ]
  },
  {
   "cell_type": "code",
   "execution_count": 26,
   "metadata": {
    "colab": {
     "base_uri": "https://localhost:8080/",
     "height": 244
    },
    "executionInfo": {
     "elapsed": 94,
     "status": "ok",
     "timestamp": 1742782911553,
     "user": {
      "displayName": "tran minh thuan",
      "userId": "06896544119676718798"
     },
     "user_tz": -420
    },
    "id": "1XmaD8jTzn3Z",
    "outputId": "74d8ca7d-ebc5-4da5-c9c7-30104020a9c1"
   },
   "outputs": [
    {
     "data": {
      "application/vnd.microsoft.datawrangler.viewer.v0+json": {
       "columns": [
        {
         "name": "index",
         "rawType": "int64",
         "type": "integer"
        },
        {
         "name": "Unnamed: 0",
         "rawType": "float64",
         "type": "float"
        },
        {
         "name": "sbd",
         "rawType": "int64",
         "type": "integer"
        },
        {
         "name": "ten",
         "rawType": "object",
         "type": "unknown"
        },
        {
         "name": "ngay_sinh",
         "rawType": "object",
         "type": "unknown"
        },
        {
         "name": "gioi_tinh",
         "rawType": "object",
         "type": "unknown"
        },
        {
         "name": "toan",
         "rawType": "float64",
         "type": "float"
        },
        {
         "name": "ngu_van",
         "rawType": "float64",
         "type": "float"
        },
        {
         "name": "vat_li",
         "rawType": "float64",
         "type": "float"
        },
        {
         "name": "hoa_hoc",
         "rawType": "float64",
         "type": "float"
        },
        {
         "name": "sinh_hoc",
         "rawType": "float64",
         "type": "float"
        },
        {
         "name": "lich_su",
         "rawType": "float64",
         "type": "float"
        },
        {
         "name": "dia_li",
         "rawType": "float64",
         "type": "float"
        },
        {
         "name": "gdcd",
         "rawType": "float64",
         "type": "float"
        },
        {
         "name": "ngoai_ngu",
         "rawType": "float64",
         "type": "float"
        },
        {
         "name": "tong_diem",
         "rawType": "float64",
         "type": "float"
        }
       ],
       "conversionMethod": "pd.DataFrame",
       "ref": "9a8a8e4b-0d7c-43af-91d0-b66d8f595cba",
       "rows": [
        [
         "0",
         "0.0",
         "18014547",
         "0.0",
         "0.0",
         "0.0",
         "6.4",
         "6.75",
         "0.0",
         "0.0",
         "0.0",
         "4.75",
         "7.0",
         "6.5",
         "4.2",
         "35.6"
        ],
        [
         "1",
         "1.0",
         "18014530",
         "0.0",
         "0.0",
         "0.0",
         "7.6",
         "6.0",
         "0.0",
         "0.0",
         "0.0",
         "3.75",
         "7.75",
         "7.75",
         "2.8",
         "35.65"
        ],
        [
         "2",
         "2.0",
         "18014521",
         "0.0",
         "0.0",
         "0.0",
         "4.8",
         "4.75",
         "0.0",
         "0.0",
         "0.0",
         "4.0",
         "6.5",
         "0.0",
         "0.0",
         "20.05"
        ],
        [
         "3",
         "3.0",
         "18014517",
         "0.0",
         "0.0",
         "0.0",
         "8.0",
         "7.0",
         "0.0",
         "0.0",
         "0.0",
         "8.25",
         "8.0",
         "9.5",
         "5.8",
         "46.55"
        ],
        [
         "4",
         "4.0",
         "18014523",
         "0.0",
         "0.0",
         "0.0",
         "8.2",
         "6.5",
         "8.0",
         "8.5",
         "5.0",
         "0.0",
         "0.0",
         "0.0",
         "4.0",
         "40.2"
        ]
       ],
       "shape": {
        "columns": 15,
        "rows": 5
       }
      },
      "text/html": [
       "<div>\n",
       "<style scoped>\n",
       "    .dataframe tbody tr th:only-of-type {\n",
       "        vertical-align: middle;\n",
       "    }\n",
       "\n",
       "    .dataframe tbody tr th {\n",
       "        vertical-align: top;\n",
       "    }\n",
       "\n",
       "    .dataframe thead th {\n",
       "        text-align: right;\n",
       "    }\n",
       "</style>\n",
       "<table border=\"1\" class=\"dataframe\">\n",
       "  <thead>\n",
       "    <tr style=\"text-align: right;\">\n",
       "      <th></th>\n",
       "      <th>Unnamed: 0</th>\n",
       "      <th>sbd</th>\n",
       "      <th>ten</th>\n",
       "      <th>ngay_sinh</th>\n",
       "      <th>gioi_tinh</th>\n",
       "      <th>toan</th>\n",
       "      <th>ngu_van</th>\n",
       "      <th>vat_li</th>\n",
       "      <th>hoa_hoc</th>\n",
       "      <th>sinh_hoc</th>\n",
       "      <th>lich_su</th>\n",
       "      <th>dia_li</th>\n",
       "      <th>gdcd</th>\n",
       "      <th>ngoai_ngu</th>\n",
       "      <th>tong_diem</th>\n",
       "    </tr>\n",
       "  </thead>\n",
       "  <tbody>\n",
       "    <tr>\n",
       "      <th>0</th>\n",
       "      <td>0.0</td>\n",
       "      <td>18014547</td>\n",
       "      <td>0.0</td>\n",
       "      <td>0.0</td>\n",
       "      <td>0.0</td>\n",
       "      <td>6.4</td>\n",
       "      <td>6.75</td>\n",
       "      <td>0.0</td>\n",
       "      <td>0.0</td>\n",
       "      <td>0.0</td>\n",
       "      <td>4.75</td>\n",
       "      <td>7.00</td>\n",
       "      <td>6.50</td>\n",
       "      <td>4.2</td>\n",
       "      <td>35.60</td>\n",
       "    </tr>\n",
       "    <tr>\n",
       "      <th>1</th>\n",
       "      <td>1.0</td>\n",
       "      <td>18014530</td>\n",
       "      <td>0.0</td>\n",
       "      <td>0.0</td>\n",
       "      <td>0.0</td>\n",
       "      <td>7.6</td>\n",
       "      <td>6.00</td>\n",
       "      <td>0.0</td>\n",
       "      <td>0.0</td>\n",
       "      <td>0.0</td>\n",
       "      <td>3.75</td>\n",
       "      <td>7.75</td>\n",
       "      <td>7.75</td>\n",
       "      <td>2.8</td>\n",
       "      <td>35.65</td>\n",
       "    </tr>\n",
       "    <tr>\n",
       "      <th>2</th>\n",
       "      <td>2.0</td>\n",
       "      <td>18014521</td>\n",
       "      <td>0.0</td>\n",
       "      <td>0.0</td>\n",
       "      <td>0.0</td>\n",
       "      <td>4.8</td>\n",
       "      <td>4.75</td>\n",
       "      <td>0.0</td>\n",
       "      <td>0.0</td>\n",
       "      <td>0.0</td>\n",
       "      <td>4.00</td>\n",
       "      <td>6.50</td>\n",
       "      <td>0.00</td>\n",
       "      <td>0.0</td>\n",
       "      <td>20.05</td>\n",
       "    </tr>\n",
       "    <tr>\n",
       "      <th>3</th>\n",
       "      <td>3.0</td>\n",
       "      <td>18014517</td>\n",
       "      <td>0.0</td>\n",
       "      <td>0.0</td>\n",
       "      <td>0.0</td>\n",
       "      <td>8.0</td>\n",
       "      <td>7.00</td>\n",
       "      <td>0.0</td>\n",
       "      <td>0.0</td>\n",
       "      <td>0.0</td>\n",
       "      <td>8.25</td>\n",
       "      <td>8.00</td>\n",
       "      <td>9.50</td>\n",
       "      <td>5.8</td>\n",
       "      <td>46.55</td>\n",
       "    </tr>\n",
       "    <tr>\n",
       "      <th>4</th>\n",
       "      <td>4.0</td>\n",
       "      <td>18014523</td>\n",
       "      <td>0.0</td>\n",
       "      <td>0.0</td>\n",
       "      <td>0.0</td>\n",
       "      <td>8.2</td>\n",
       "      <td>6.50</td>\n",
       "      <td>8.0</td>\n",
       "      <td>8.5</td>\n",
       "      <td>5.0</td>\n",
       "      <td>0.00</td>\n",
       "      <td>0.00</td>\n",
       "      <td>0.00</td>\n",
       "      <td>4.0</td>\n",
       "      <td>40.20</td>\n",
       "    </tr>\n",
       "  </tbody>\n",
       "</table>\n",
       "</div>"
      ],
      "text/plain": [
       "   Unnamed: 0       sbd  ten ngay_sinh gioi_tinh  toan  ngu_van  vat_li  \\\n",
       "0         0.0  18014547  0.0       0.0       0.0   6.4     6.75     0.0   \n",
       "1         1.0  18014530  0.0       0.0       0.0   7.6     6.00     0.0   \n",
       "2         2.0  18014521  0.0       0.0       0.0   4.8     4.75     0.0   \n",
       "3         3.0  18014517  0.0       0.0       0.0   8.0     7.00     0.0   \n",
       "4         4.0  18014523  0.0       0.0       0.0   8.2     6.50     8.0   \n",
       "\n",
       "   hoa_hoc  sinh_hoc  lich_su  dia_li  gdcd  ngoai_ngu  tong_diem  \n",
       "0      0.0       0.0     4.75    7.00  6.50        4.2      35.60  \n",
       "1      0.0       0.0     3.75    7.75  7.75        2.8      35.65  \n",
       "2      0.0       0.0     4.00    6.50  0.00        0.0      20.05  \n",
       "3      0.0       0.0     8.25    8.00  9.50        5.8      46.55  \n",
       "4      8.5       5.0     0.00    0.00  0.00        4.0      40.20  "
      ]
     },
     "execution_count": 26,
     "metadata": {},
     "output_type": "execute_result"
    }
   ],
   "source": [
    "df.head(5)"
   ]
  },
  {
   "cell_type": "markdown",
   "metadata": {
    "id": "qcDLZHxPzmTL"
   },
   "source": []
  },
  {
   "cell_type": "code",
   "execution_count": 27,
   "metadata": {
    "colab": {
     "base_uri": "https://localhost:8080/",
     "height": 438
    },
    "executionInfo": {
     "elapsed": 247,
     "status": "ok",
     "timestamp": 1742782911803,
     "user": {
      "displayName": "tran minh thuan",
      "userId": "06896544119676718798"
     },
     "user_tz": -420
    },
    "id": "9eVMKBIm0Q9K",
    "outputId": "f3009a94-ce1d-4764-ed00-422ac619ea38"
   },
   "outputs": [
    {
     "data": {
      "image/png": "[encoded data removed]",
      "text/plain": [
       "<Figure size 1000x600 with 1 Axes>"
      ]
     },
     "metadata": {},
     "output_type": "display_data"
    }
   ],
   "source": [
    "# prompt: Visualize average score of every subject\n",
    "\n",
    "import matplotlib.pyplot as plt\n",
    "\n",
    "# Assuming 'average_scores' dictionary is already defined as in the previous code\n",
    "\n",
    "subjects = list(average_scores.keys())\n",
    "averages = list(average_scores.values())\n",
    "\n",
    "plt.figure(figsize=(10, 6))\n",
    "plt.bar(subjects, averages)\n",
    "plt.xlabel(\"Subjects\")\n",
    "plt.ylabel(\"Average Score\")\n",
    "plt.title(\"Average Score of Every Subject\")\n",
    "plt.xticks(rotation=45, ha=\"right\")  # Rotate x-axis labels for better readability\n",
    "plt.tight_layout()\n",
    "plt.show()"
   ]
  },
  {
   "cell_type": "code",
   "execution_count": null,
   "metadata": {
    "id": "UoFbVKHc146a"
   },
   "outputs": [
    {
     "name": "stdout",
     "output_type": "stream",
     "text": [
      "\n",
      "Original Data:\n",
      "         Unnamed: 0       sbd  ten ngay_sinh gioi_tinh  toan  ngu_van  vat_li  \\\n",
      "0               0.0  18014547  0.0       0.0       0.0   6.4     6.75    0.00   \n",
      "1               1.0  18014530  0.0       0.0       0.0   7.6     6.00    0.00   \n",
      "2               2.0  18014521  0.0       0.0       0.0   4.8     4.75    0.00   \n",
      "3               3.0  18014517  0.0       0.0       0.0   8.0     7.00    0.00   \n",
      "4               4.0  18014523  0.0       0.0       0.0   8.2     6.50    8.00   \n",
      "...             ...       ...  ...       ...       ...   ...      ...     ...   \n",
      "4936978         0.0  64007282  0.0       0.0       0.0   4.2     6.00    0.00   \n",
      "4936979         0.0  64007283  0.0       0.0       0.0   5.2     6.00    0.00   \n",
      "4936980         0.0  64007284  0.0       0.0       0.0   7.2     8.00    6.25   \n",
      "4936981         0.0  64007285  0.0       0.0       0.0   5.2     5.25    0.00   \n",
      "4936982         0.0  64007286  0.0       0.0       0.0   5.8     8.25    0.00   \n",
      "\n",
      "         hoa_hoc  sinh_hoc  lich_su  dia_li  gdcd  ngoai_ngu  tong_diem  \\\n",
      "0            0.0       0.0     4.75    7.00  6.50        4.2      35.60   \n",
      "1            0.0       0.0     3.75    7.75  7.75        2.8      35.65   \n",
      "2            0.0       0.0     4.00    6.50  0.00        0.0      20.05   \n",
      "3            0.0       0.0     8.25    8.00  9.50        5.8      46.55   \n",
      "4            8.5       5.0     0.00    0.00  0.00        4.0      40.20   \n",
      "...          ...       ...      ...     ...   ...        ...        ...   \n",
      "4936978      0.0       0.0     5.25    6.25  7.50        3.0      32.20   \n",
      "4936979      0.0       0.0     6.25    5.75  7.75        3.6      34.55   \n",
      "4936980      7.0       8.0     0.00    0.00  0.00        7.0      43.45   \n",
      "4936981      0.0       0.0     4.75    6.50  8.75        4.4      34.85   \n",
      "4936982      0.0       0.0     5.00    7.25  8.25        2.8      37.35   \n",
      "\n",
      "         diem_thi_theo_to_hop  \n",
      "0                       35.60  \n",
      "1                       35.65  \n",
      "2                       20.05  \n",
      "3                       46.55  \n",
      "4                       40.20  \n",
      "...                       ...  \n",
      "4936978                 32.20  \n",
      "4936979                 34.55  \n",
      "4936980                 43.45  \n",
      "4936981                 34.85  \n",
      "4936982                 37.35  \n",
      "\n",
      "[4936983 rows x 16 columns]\n",
      "\n",
      "Data with Combination Scores:\n",
      "         Unnamed: 0       sbd  ten ngay_sinh gioi_tinh  toan  ngu_van  vat_li  \\\n",
      "0               0.0  18014547  0.0       0.0       0.0   6.4     6.75    0.00   \n",
      "1               1.0  18014530  0.0       0.0       0.0   7.6     6.00    0.00   \n",
      "2               2.0  18014521  0.0       0.0       0.0   4.8     4.75    0.00   \n",
      "3               3.0  18014517  0.0       0.0       0.0   8.0     7.00    0.00   \n",
      "4               4.0  18014523  0.0       0.0       0.0   8.2     6.50    8.00   \n",
      "...             ...       ...  ...       ...       ...   ...      ...     ...   \n",
      "4936978         0.0  64007282  0.0       0.0       0.0   4.2     6.00    0.00   \n",
      "4936979         0.0  64007283  0.0       0.0       0.0   5.2     6.00    0.00   \n",
      "4936980         0.0  64007284  0.0       0.0       0.0   7.2     8.00    6.25   \n",
      "4936981         0.0  64007285  0.0       0.0       0.0   5.2     5.25    0.00   \n",
      "4936982         0.0  64007286  0.0       0.0       0.0   5.8     8.25    0.00   \n",
      "\n",
      "         hoa_hoc  sinh_hoc  ...  dia_li  gdcd  ngoai_ngu  tong_diem  \\\n",
      "0            0.0       0.0  ...    7.00  6.50        4.2      35.60   \n",
      "1            0.0       0.0  ...    7.75  7.75        2.8      35.65   \n",
      "2            0.0       0.0  ...    6.50  0.00        0.0      20.05   \n",
      "3            0.0       0.0  ...    8.00  9.50        5.8      46.55   \n",
      "4            8.5       5.0  ...    0.00  0.00        4.0      40.20   \n",
      "...          ...       ...  ...     ...   ...        ...        ...   \n",
      "4936978      0.0       0.0  ...    6.25  7.50        3.0      32.20   \n",
      "4936979      0.0       0.0  ...    5.75  7.75        3.6      34.55   \n",
      "4936980      7.0       8.0  ...    0.00  0.00        7.0      43.45   \n",
      "4936981      0.0       0.0  ...    6.50  8.75        4.4      34.85   \n",
      "4936982      0.0       0.0  ...    7.25  8.25        2.8      37.35   \n",
      "\n",
      "         diem_thi_theo_to_hop  A00_score  A01_score  B00_score  D01_score  \\\n",
      "0                       35.60   2.133333   3.533333   2.133333   5.783333   \n",
      "1                       35.65   2.533333   3.466667   2.533333   5.466667   \n",
      "2                       20.05   1.600000   1.600000   1.600000   3.183333   \n",
      "3                       46.55   2.666667   4.600000   2.666667   6.933333   \n",
      "4                       40.20   8.233333   6.733333   7.233333   6.233333   \n",
      "...                       ...        ...        ...        ...        ...   \n",
      "4936978                 32.20   1.400000   2.400000   1.400000   4.400000   \n",
      "4936979                 34.55   1.733333   2.933333   1.733333   4.933333   \n",
      "4936980                 43.45   6.816667   6.816667   7.400000   7.400000   \n",
      "4936981                 34.85   1.733333   3.200000   1.733333   4.950000   \n",
      "4936982                 37.35   1.933333   2.866667   1.933333   5.616667   \n",
      "\n",
      "         D07_score  \n",
      "0         3.533333  \n",
      "1         3.466667  \n",
      "2         1.600000  \n",
      "3         4.600000  \n",
      "4         6.900000  \n",
      "...            ...  \n",
      "4936978   2.400000  \n",
      "4936979   2.933333  \n",
      "4936980   7.066667  \n",
      "4936981   3.200000  \n",
      "4936982   2.866667  \n",
      "\n",
      "[4936983 rows x 21 columns]\n",
      "\n",
      "Combination Score Summary:\n"
     ]
    }
   ],
   "source": [
    "# Tính điểm theo tổ hợp các môn A00, A01, B00, D01, D07 \n",
    "# Gia su A00 la Toan Ly Hoa, A01 la Toan Ly Anh...\n",
    "# Kiem cac cot to hop diem, neu = 0.0 thi khong thi to hop mon do\n",
    "\n",
    "\n",
    "import pandas as pd\n",
    "import numpy as np\n",
    "\n",
    "def calculate_combination_scores(df):\n",
    "    \"\"\"\n",
    "    Calculate combination scores for different subject combinations:\n",
    "    A00: toan, vat_li, hoa_hoc\n",
    "    A01: toan, vat_li, ngoai_ngu\n",
    "    B00: toan, sinh_hoc, hoa_hoc\n",
    "    D01: toan, ngu_van, ngoai_ngu\n",
    "    D07: toan, hoa_hoc, ngoai_ngu\n",
    "    \n",
    "    Returns a dataframe with the new combination score columns\n",
    "    \"\"\"\n",
    "    # Define subject combinations\n",
    "    combinations = {\n",
    "        'A00': ['toan', 'vat_li', 'hoa_hoc'],\n",
    "        'A01': ['toan', 'vat_li', 'ngoai_ngu'],\n",
    "        'B00': ['toan', 'sinh_hoc', 'hoa_hoc'],\n",
    "        'D01': ['toan', 'ngu_van', 'ngoai_ngu'],\n",
    "        'D07': ['toan', 'hoa_hoc', 'ngoai_ngu']\n",
    "    }\n",
    "    \n",
    "    # Create a copy of the dataframe to avoid modifying the original\n",
    "    result_df = df.copy()\n",
    "    \n",
    "    # Calculate the average score for each combination\n",
    "    for combo_name, subjects in combinations.items():\n",
    "        # Check if all three subjects exist in the dataframe\n",
    "        if all(subject in df.columns for subject in subjects):\n",
    "            # Create a mask where all three subjects have non-null values\n",
    "            mask = pd.notna(df[subjects[0]]) & pd.notna(df[subjects[1]]) & pd.notna(df[subjects[2]])\n",
    "            \n",
    "            # Initialize the combination column with NaN\n",
    "            result_df[f'{combo_name}_score'] = np.nan\n",
    "            \n",
    "            # Calculate the average for rows that have all three subjects\n",
    "            result_df.loc[mask, f'{combo_name}_score'] = df.loc[mask, subjects].mean(axis=1)\n",
    "    \n",
    "    return result_df\n",
    "\n",
    "# Example usage:\n",
    "if __name__ == \"__main__\":\n",
    "    result = calculate_combination_scores(df)\n",
    "    \n",
    "    # Display results\n",
    "    print(\"\\nOriginal Data:\")\n",
    "    print(df)\n",
    "    print(\"\\nData with Combination Scores:\")\n",
    "    print(result)\n",
    "    \n",
    "    # Show which combinations each student qualifies for\n",
    "    print(\"\\nCombination Score Summary:\")\n",
    "    for i, row in result.iterrows():\n",
    "        student_id = row['sbd']\n",
    "        print(f\"Student {student_id}:\")\n",
    "        for combo in ['A00', 'A01', 'B00', 'D01', 'D07']:\n",
    "            col_name = f'{combo}_score'\n",
    "            if col_name in result.columns and not pd.isna(row[col_name]):\n",
    "                print(f\"  {combo}: {row[col_name]:.2f}\")\n"
   ]
  },
  {
   "cell_type": "markdown",
   "metadata": {
    "id": "rJuY_68H0cs6"
   },
   "source": []
  }
 ],
 "metadata": {
  "colab": {
   "provenance": []
  },
  "kernelspec": {
   "display_name": "jupyter-da",
   "language": "python",
   "name": "python3"
  },
  "language_info": {
   "codemirror_mode": {
    "name": "ipython",
    "version": 3
   },
   "file_extension": ".py",
   "mimetype": "text/x-python",
   "name": "python",
   "nbconvert_exporter": "python",
   "pygments_lexer": "ipython3",
   "version": "3.12.9"
  }
 },
 "nbformat": 4,
 "nbformat_minor": 0
}
