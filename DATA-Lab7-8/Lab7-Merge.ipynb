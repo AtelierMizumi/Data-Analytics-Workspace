{
 "cells": [
  {
   "cell_type": "markdown",
   "metadata": {},
   "source": [
    "# Xu li du lieu va merge"
   ]
  },
  {
   "cell_type": "code",
   "execution_count": null,
   "metadata": {},
   "outputs": [],
   "source": [
    "import pandas as pd\n",
    "import numpy as np\n",
    "import seaborn as sns\n",
    "\n",
    "# Nhập các thư viện cần thiết\n",
    "import matplotlib.pyplot as plt\n",
    "\n",
    "# Đọc dữ liệu từ các file CSV\n",
    "print(\"Đang đọc dữ liệu...\")\n",
    "df1 = pd.read_csv('LOTR.csv')  # Đọc tập dữ liệu LOTR đầu tiên\n",
    "df2 = pd.read_csv('LOTR 2.csv')  # Đọc tập dữ liệu LOTR thứ hai"
   ]
  },
  {
   "cell_type": "code",
   "execution_count": null,
   "metadata": {},
   "outputs": [],
   "source": [
    "\n",
    "# Kiểm tra dữ liệu\n",
    "print(\"\\nThông tin tập dữ liệu LOTR.csv:\")\n",
    "print(f\"Số lượng dòng và cột: {df1.shape}\")\n",
    "print(\"Các cột trong dữ liệu:\")\n",
    "print(df1.columns.tolist())\n",
    "print(\"5 dòng đầu tiên của dữ liệu:\")\n",
    "print(df1.head())\n",
    "print(\"Thông tin thống kê:\")\n",
    "print(df1.describe())\n",
    "print(\"Kiểm tra giá trị null:\")\n",
    "print(df1.isnull().sum())"
   ]
  },
  {
   "cell_type": "code",
   "execution_count": null,
   "metadata": {},
   "outputs": [],
   "source": [
    "\n",
    "\n",
    "print(\"\\nThông tin tập dữ liệu LOTR 2.csv:\")\n",
    "print(f\"Số lượng dòng và cột: {df2.shape}\")\n",
    "print(\"Các cột trong dữ liệu:\")\n",
    "print(df2.columns.tolist())\n",
    "print(\"5 dòng đầu tiên của dữ liệu:\")\n",
    "print(df2.head())\n",
    "print(\"Thông tin thống kê:\")\n",
    "print(df2.describe())\n",
    "print(\"Kiểm tra giá trị null:\")\n",
    "print(df2.isnull().sum())"
   ]
  },
  {
   "cell_type": "code",
   "execution_count": null,
   "metadata": {},
   "outputs": [],
   "source": [
    "# Gộp hai tập dữ liệu\n",
    "print(\"\\nĐang gộp hai tập dữ liệu...\")\n",
    "# Lưu ý: Phương thức gộp (merge, concat, join) sẽ phụ thuộc vào cấu trúc thực tế của dữ liệu\n",
    "# Ở đây giả định chúng ta gộp theo cột chung giữa hai tập dữ liệu\n",
    "try:\n",
    "    # Thử gộp theo các cột chung (nếu có)\n",
    "    common_columns = list(set(df1.columns) & set(df2.columns))\n",
    "    if common_columns:\n",
    "        df_merged = pd.merge(df1, df2, on=common_columns, how='outer')\n",
    "        print(f\"Đã gộp dữ liệu theo các cột chung: {common_columns}\")\n",
    "    else:\n",
    "        # Nếu không có cột chung, gộp theo chỉ mục\n",
    "        df_merged = pd.concat([df1, df2], axis=0, ignore_index=True)\n",
    "        print(\"Đã gộp dữ liệu theo chỉ mục vì không tìm thấy cột chung\")\n",
    "except Exception as e:\n",
    "    print(f\"Lỗi khi gộp dữ liệu: {e}\")\n",
    "    # Thử phương pháp gộp khác\n",
    "    df_merged = pd.concat([df1, df2], axis=0, ignore_index=True)\n",
    "    print(\"Đã gộp dữ liệu bằng phương pháp concat\")\n",
    "\n",
    "# Hiển thị thông tin về tập dữ liệu sau khi gộp\n",
    "print(\"\\nThông tin tập dữ liệu sau khi gộp:\")\n",
    "print(f\"Số lượng dòng và cột: {df_merged.shape}\")\n",
    "print(\"5 dòng đầu tiên của dữ liệu sau khi gộp:\")\n",
    "print(df_merged.head())"
   ]
  },
  {
   "cell_type": "code",
   "execution_count": null,
   "metadata": {},
   "outputs": [],
   "source": [
    "\n",
    "\n",
    "# Lưu tập dữ liệu đã gộp vào file mới\n",
    "print(\"\\nĐang lưu tập dữ liệu đã gộp...\")\n",
    "df_merged.to_csv('LOTR-process.csv', index=False)\n",
    "print(\"Đã lưu tập dữ liệu gộp vào file 'LOTR-process.csv'\")"
   ]
  }
 ],
 "metadata": {
  "kernelspec": {
   "display_name": "jupyter-da",
   "language": "python",
   "name": "python3"
  },
  "language_info": {
   "name": "python",
   "version": "3.12.9"
  }
 },
 "nbformat": 4,
 "nbformat_minor": 2
}
