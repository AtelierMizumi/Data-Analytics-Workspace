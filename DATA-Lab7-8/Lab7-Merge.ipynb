{
 "cells": [
  {
   "cell_type": "markdown",
   "metadata": {},
   "source": [
    "# Xử lí dữ liệu và kết hợp 2 bảng dữ liệu"
   ]
  },
  {
   "cell_type": "code",
   "execution_count": 4,
   "metadata": {},
   "outputs": [
    {
     "name": "stdout",
     "output_type": "stream",
     "text": [
      "Đang đọc dữ liệu...\n",
      "Hoàn tất việc đọc dữ liệu\n"
     ]
    }
   ],
   "source": [
    "import pandas as pd\n",
    "import numpy as np\n",
    "import seaborn as sns\n",
    "\n",
    "# Nhập các thư viện cần thiết\n",
    "import matplotlib.pyplot as plt\n",
    "\n",
    "# Đọc dữ liệu từ các file CSV\n",
    "print(\"Đang đọc dữ liệu...\")\n",
    "df1 = pd.read_csv('LOTR.csv')  # Đọc tập dữ liệu LOTR đầu tiên\n",
    "df2 = pd.read_csv('LOTR 2.csv')  # Đọc tập dữ liệu LOTR thứ hai\n",
    "print(\"Hoàn tất việc đọc dữ liệu\")"
   ]
  },
  {
   "cell_type": "code",
   "execution_count": 5,
   "metadata": {},
   "outputs": [
    {
     "name": "stdout",
     "output_type": "stream",
     "text": [
      "\n",
      "Thông tin tập dữ liệu LOTR.csv:\n",
      "Số lượng dòng và cột: (4, 3)\n",
      "Các cột trong dữ liệu:\n",
      "['FellowshipID', 'FirstName', 'Skills']\n",
      "5 dòng đầu tiên của dữ liệu:\n",
      "   FellowshipID FirstName     Skills\n",
      "0          1001     Frodo     Hiding\n",
      "1          1002   Samwise  Gardening\n",
      "2          1003   Gandalf     Spells\n",
      "3          1004    Pippin  Fireworks\n",
      "Thông tin thống kê:\n",
      "       FellowshipID\n",
      "count      4.000000\n",
      "mean    1002.500000\n",
      "std        1.290994\n",
      "min     1001.000000\n",
      "25%     1001.750000\n",
      "50%     1002.500000\n",
      "75%     1003.250000\n",
      "max     1004.000000\n",
      "Kiểm tra giá trị null:\n",
      "FellowshipID    0\n",
      "FirstName       0\n",
      "Skills          0\n",
      "dtype: int64\n"
     ]
    }
   ],
   "source": [
    "# Kiểm tra dữ liệu\n",
    "print(\"\\nThông tin tập dữ liệu LOTR.csv:\")\n",
    "print(f\"Số lượng dòng và cột: {df1.shape}\")\n",
    "print(\"Các cột trong dữ liệu:\")\n",
    "print(df1.columns.tolist())\n",
    "print(\"5 dòng đầu tiên của dữ liệu:\")\n",
    "print(df1.head())\n",
    "print(\"Thông tin thống kê:\")\n",
    "print(df1.describe())\n",
    "print(\"Kiểm tra giá trị null:\")\n",
    "print(df1.isnull().sum())"
   ]
  },
  {
   "cell_type": "code",
   "execution_count": 6,
   "metadata": {},
   "outputs": [
    {
     "name": "stdout",
     "output_type": "stream",
     "text": [
      "\n",
      "Thông tin tập dữ liệu LOTR 2.csv:\n",
      "Số lượng dòng và cột: (5, 3)\n",
      "Các cột trong dữ liệu:\n",
      "['FellowshipID', 'FirstName', 'Age']\n",
      "5 dòng đầu tiên của dữ liệu:\n",
      "   FellowshipID FirstName   Age\n",
      "0          1001     Frodo    50\n",
      "1          1002   Samwise    39\n",
      "2          1006   Legolas  2931\n",
      "3          1007    Elrond  6520\n",
      "4          1008  Barromir    51\n",
      "Thông tin thống kê:\n",
      "       FellowshipID          Age\n",
      "count      5.000000     5.000000\n",
      "mean    1004.800000  1918.200000\n",
      "std        3.114482  2859.647129\n",
      "min     1001.000000    39.000000\n",
      "25%     1002.000000    50.000000\n",
      "50%     1006.000000    51.000000\n",
      "75%     1007.000000  2931.000000\n",
      "max     1008.000000  6520.000000\n",
      "Kiểm tra giá trị null:\n",
      "FellowshipID    0\n",
      "FirstName       0\n",
      "Age             0\n",
      "dtype: int64\n"
     ]
    }
   ],
   "source": [
    "print(\"\\nThông tin tập dữ liệu LOTR 2.csv:\")\n",
    "print(f\"Số lượng dòng và cột: {df2.shape}\")\n",
    "print(\"Các cột trong dữ liệu:\")\n",
    "print(df2.columns.tolist())\n",
    "print(\"5 dòng đầu tiên của dữ liệu:\")\n",
    "print(df2.head())\n",
    "print(\"Thông tin thống kê:\")\n",
    "print(df2.describe())\n",
    "print(\"Kiểm tra giá trị null:\")\n",
    "print(df2.isnull().sum())"
   ]
  },
  {
   "cell_type": "code",
   "execution_count": 7,
   "metadata": {},
   "outputs": [
    {
     "name": "stdout",
     "output_type": "stream",
     "text": [
      "\n",
      "Đang gộp hai tập dữ liệu...\n",
      "Đã gộp dữ liệu theo các cột chung: ['FirstName', 'FellowshipID']\n",
      "\n",
      "Thông tin tập dữ liệu sau khi gộp:\n",
      "Số lượng dòng và cột: (7, 4)\n",
      "5 dòng đầu tiên của dữ liệu sau khi gộp:\n",
      "   FellowshipID FirstName  Skills     Age\n",
      "0          1008  Barromir     NaN    51.0\n",
      "1          1007    Elrond     NaN  6520.0\n",
      "2          1001     Frodo  Hiding    50.0\n",
      "3          1003   Gandalf  Spells     NaN\n",
      "4          1006   Legolas     NaN  2931.0\n"
     ]
    }
   ],
   "source": [
    "# Gộp hai tập dữ liệu\n",
    "print(\"\\nĐang gộp hai tập dữ liệu...\")\n",
    "# Lưu ý: Phương thức gộp (merge, concat, join) sẽ phụ thuộc vào cấu trúc thực tế của dữ liệu\n",
    "# Ở đây giả định chúng ta gộp theo cột chung giữa hai tập dữ liệu\n",
    "try:\n",
    "    # Thử gộp theo các cột chung (nếu có)\n",
    "    common_columns = list(set(df1.columns) & set(df2.columns))\n",
    "    if common_columns:\n",
    "        df_merged = pd.merge(df1, df2, on=common_columns, how='outer')\n",
    "        print(f\"Đã gộp dữ liệu theo các cột chung: {common_columns}\")\n",
    "    else:\n",
    "        # Nếu không có cột chung, gộp theo chỉ mục\n",
    "        df_merged = pd.concat([df1, df2], axis=0, ignore_index=True)\n",
    "        print(\"Đã gộp dữ liệu theo chỉ mục vì không tìm thấy cột chung\")\n",
    "except Exception as e:\n",
    "    print(f\"Lỗi khi gộp dữ liệu: {e}\")\n",
    "    # Thử phương pháp gộp khác\n",
    "    df_merged = pd.concat([df1, df2], axis=0, ignore_index=True)\n",
    "    print(\"Đã gộp dữ liệu bằng phương pháp concat\")\n",
    "\n",
    "# Hiển thị thông tin về tập dữ liệu sau khi gộp\n",
    "print(\"\\nThông tin tập dữ liệu sau khi gộp:\")\n",
    "print(f\"Số lượng dòng và cột: {df_merged.shape}\")\n",
    "print(\"5 dòng đầu tiên của dữ liệu sau khi gộp:\")\n",
    "print(df_merged.head())"
   ]
  },
  {
   "cell_type": "code",
   "execution_count": 12,
   "metadata": {},
   "outputs": [
    {
     "name": "stdout",
     "output_type": "stream",
     "text": [
      "Đã gộp dữ liệu theo các cột chung: ['FirstName', 'FellowshipID']\n"
     ]
    }
   ],
   "source": [
    "# Gộp tệp dữ liệu đơn giản bằng inner join\n",
    "\n",
    "df_merged = pd.merge(df1, df2, on=common_columns, how='outer')\n",
    "print(f\"Đã gộp dữ liệu theo các cột chung: {common_columns}\")"
   ]
  },
  {
   "cell_type": "code",
   "execution_count": 14,
   "metadata": {},
   "outputs": [
    {
     "name": "stdout",
     "output_type": "stream",
     "text": [
      "\n",
      "Thông tin tập dữ liệu sau khi gộp:\n",
      "Số lượng dòng và cột: (7, 4)\n",
      "5 dòng đầu tiên của dữ liệu sau khi gộp:\n",
      "   FellowshipID FirstName  Skills     Age\n",
      "0          1008  Barromir     NaN    51.0\n",
      "1          1007    Elrond     NaN  6520.0\n",
      "2          1001     Frodo  Hiding    50.0\n",
      "3          1003   Gandalf  Spells     NaN\n",
      "4          1006   Legolas     NaN  2931.0\n"
     ]
    }
   ],
   "source": [
    "print(\"\\nThông tin tập dữ liệu sau khi gộp:\")\n",
    "print(f\"Số lượng dòng và cột: {df_merged.shape}\")\n",
    "print(\"5 dòng đầu tiên của dữ liệu sau khi gộp:\")\n",
    "print(df_merged.head())"
   ]
  },
  {
   "cell_type": "code",
   "execution_count": 10,
   "metadata": {},
   "outputs": [
    {
     "name": "stdout",
     "output_type": "stream",
     "text": [
      "\n",
      "Đang lưu tập dữ liệu đã gộp...\n",
      "Đã lưu tập dữ liệu gộp vào file 'LOTR-process.csv'\n"
     ]
    }
   ],
   "source": [
    "# Lưu tập dữ liệu đã gộp vào file mới\n",
    "print(\"\\nĐang lưu tập dữ liệu đã gộp...\")\n",
    "df_merged.to_csv('LOTR-processed.csv', index=False)\n",
    "print(\"Đã lưu tập dữ liệu gộp vào file 'LOTR-process.csv'\")"
   ]
  }
 ],
 "metadata": {
  "kernelspec": {
   "display_name": "jupyter-da",
   "language": "python",
   "name": "python3"
  },
  "language_info": {
   "codemirror_mode": {
    "name": "ipython",
    "version": 3
   },
   "file_extension": ".py",
   "mimetype": "text/x-python",
   "name": "python",
   "nbconvert_exporter": "python",
   "pygments_lexer": "ipython3",
   "version": "3.12.9"
  }
 },
 "nbformat": 4,
 "nbformat_minor": 4
}
