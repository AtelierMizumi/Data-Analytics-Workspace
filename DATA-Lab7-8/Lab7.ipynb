{
 "cells": [
  {
   "cell_type": "markdown",
   "metadata": {},
   "source": [
    "# Lab 7 Access and Cleaning Datas"
   ]
  },
  {
   "cell_type": "markdown",
   "metadata": {},
   "source": [
    "## Import thư viện và Dataset"
   ]
  },
  {
   "cell_type": "code",
   "execution_count": 1,
   "metadata": {},
   "outputs": [
    {
     "name": "stdout",
     "output_type": "stream",
     "text": [
      "\n",
      "World Population Dataset Preview:\n",
      "   Rank CCA3         Country           Capital Continent  2022 Population  \\\n",
      "0    36  AFG     Afghanistan             Kabul      Asia       41128771.0   \n",
      "1   138  ALB         Albania            Tirana    Europe        2842321.0   \n",
      "2    34  DZA         Algeria           Algiers    Africa       44903225.0   \n",
      "3   213  ASM  American Samoa         Pago Pago   Oceania          44273.0   \n",
      "4   203  AND         Andorra  Andorra la Vella    Europe          79824.0   \n",
      "\n",
      "   2020 Population  2015 Population  2010 Population  2000 Population  \\\n",
      "0       38972230.0       33753499.0       28189672.0       19542982.0   \n",
      "1        2866849.0        2882481.0        2913399.0        3182021.0   \n",
      "2       43451666.0       39543154.0       35856344.0       30774621.0   \n",
      "3          46189.0          51368.0          54849.0          58230.0   \n",
      "4          77700.0          71746.0          71519.0          66097.0   \n",
      "\n",
      "   1990 Population  1980 Population  1970 Population  Area (km²)  \\\n",
      "0       10694796.0       12486631.0       10752971.0    652230.0   \n",
      "1        3295066.0        2941651.0        2324731.0     28748.0   \n",
      "2       25518074.0       18739378.0       13795915.0   2381741.0   \n",
      "3          47818.0          32886.0          27075.0       199.0   \n",
      "4          53569.0          35611.0          19860.0       468.0   \n",
      "\n",
      "   Density (per km²)  Growth Rate  World Population Percentage  \n",
      "0            63.0587       1.0257                         0.52  \n",
      "1            98.8702       0.9957                         0.04  \n",
      "2            18.8531       1.0164                         0.56  \n",
      "3           222.4774       0.9831                         0.00  \n",
      "4           170.5641       1.0100                         0.00  \n"
     ]
    }
   ],
   "source": [
    "import pandas as pd\n",
    "\n",
    "df = pd.read_csv('world_population.csv')\n",
    "\n",
    "print(\"\\nWorld Population Dataset Preview:\")\n",
    "print(df.head())"
   ]
  },
  {
   "cell_type": "code",
   "execution_count": 3,
   "metadata": {},
   "outputs": [
    {
     "data": {
      "text/plain": [
       "Rank                           0\n",
       "CCA3                           0\n",
       "Country                        0\n",
       "Capital                        0\n",
       "Continent                      0\n",
       "2022 Population                4\n",
       "2020 Population                1\n",
       "2015 Population                4\n",
       "2010 Population                7\n",
       "2000 Population                7\n",
       "1990 Population                5\n",
       "1980 Population                5\n",
       "1970 Population                4\n",
       "Area (km²)                     2\n",
       "Density (per km²)              4\n",
       "Growth Rate                    2\n",
       "World Population Percentage    0\n",
       "dtype: int64"
      ]
     },
     "execution_count": 3,
     "metadata": {},
     "output_type": "execute_result"
    }
   ],
   "source": [
    "# Kiểm tra các tính chất của dataset\n",
    "df.isna().sum()"
   ]
  },
  {
   "cell_type": "code",
   "execution_count": 8,
   "metadata": {},
   "outputs": [
    {
     "data": {
      "text/plain": [
       "Rank                           0\n",
       "CCA3                           0\n",
       "Country                        0\n",
       "Capital                        0\n",
       "Continent                      0\n",
       "2022 Population                0\n",
       "2020 Population                0\n",
       "2015 Population                0\n",
       "2010 Population                0\n",
       "2000 Population                0\n",
       "1990 Population                0\n",
       "1980 Population                0\n",
       "1970 Population                0\n",
       "Area (km²)                     0\n",
       "Density (per km²)              0\n",
       "Growth Rate                    0\n",
       "World Population Percentage    0\n",
       "dtype: int64"
      ]
     },
     "execution_count": 8,
     "metadata": {},
     "output_type": "execute_result"
    }
   ],
   "source": [
    "# Xử lí dữ liệu rỗng\n",
    "\n",
    "df.dropna(inplace=True)\n",
    "df.isna().sum()"
   ]
  },
  {
   "cell_type": "code",
   "execution_count": 10,
   "metadata": {},
   "outputs": [
    {
     "data": {
      "text/plain": [
       "0      False\n",
       "1      False\n",
       "2      False\n",
       "3      False\n",
       "4      False\n",
       "       ...  \n",
       "228    False\n",
       "229    False\n",
       "230    False\n",
       "231    False\n",
       "233    False\n",
       "Length: 209, dtype: bool"
      ]
     },
     "execution_count": 10,
     "metadata": {},
     "output_type": "execute_result"
    }
   ],
   "source": [
    "# Kiểm tra tính trùng lặp trong data set\n",
    "\n",
    "df.duplicated()"
   ]
  },
  {
   "cell_type": "markdown",
   "metadata": {},
   "source": [
    "## Có thể thấy dữ liệu không có các trường lặp"
   ]
  },
  {
   "cell_type": "code",
   "execution_count": 11,
   "metadata": {},
   "outputs": [
    {
     "data": {
      "text/plain": [
       "Index(['Rank', 'CCA3', 'Country', 'Capital', 'Continent', '2022 Population',\n",
       "       '2020 Population', '2015 Population', '2010 Population',\n",
       "       '2000 Population', '1990 Population', '1980 Population',\n",
       "       '1970 Population', 'Area (km²)', 'Density (per km²)', 'Growth Rate',\n",
       "       'World Population Percentage'],\n",
       "      dtype='object')"
      ]
     },
     "execution_count": 11,
     "metadata": {},
     "output_type": "execute_result"
    }
   ],
   "source": [
    "# Liệt kê các cột dữ liệu\n",
    "\n",
    "df.columns"
   ]
  },
  {
   "cell_type": "code",
   "execution_count": 16,
   "metadata": {},
   "outputs": [
    {
     "data": {
      "text/plain": [
       "Index(['Rank', 'CCA3', 'Country', 'Capital', 'Continent', '2022 Population',\n",
       "       '2020 Population', '2015 Population', '2010 Population',\n",
       "       '2000 Population', '1990 Population', '1980 Population',\n",
       "       '1970 Population', 'Area (km²)', 'Density (per km²)', 'Growth Rate',\n",
       "       'World Population Percentage', 'Address'],\n",
       "      dtype='object')"
      ]
     },
     "execution_count": 16,
     "metadata": {},
     "output_type": "execute_result"
    }
   ],
   "source": [
    "# Tạo ra một cột mới hợp nhất thành địa chỉ\n",
    "\n",
    "df[\"Address\"] = df[\"Capital\"] + \", \" + df[\"Country\"] + \", \" + df[\"Continent\"]\n",
    "df.columns"
   ]
  },
  {
   "cell_type": "code",
   "execution_count": null,
   "metadata": {},
   "outputs": [],
   "source": [
    "# Gỡ bỏ các cột không cần thiết, với input là array tên cột, axis=1 theo trục dọc\n",
    "# inplace để xóa hoàn toàn\n",
    "df.drop([\"Capital\", \"Country\", \"Continent\"], axis=1, inplace=True)"
   ]
  },
  {
   "cell_type": "code",
   "execution_count": 20,
   "metadata": {},
   "outputs": [
    {
     "data": {
      "text/plain": [
       "Index(['Rank', 'CCA3', '2022 Population', '2020 Population', '2015 Population',\n",
       "       '2010 Population', '2000 Population', '1990 Population',\n",
       "       '1980 Population', '1970 Population', 'Area (km²)', 'Density (per km²)',\n",
       "       'Growth Rate', 'World Population Percentage', 'Address'],\n",
       "      dtype='object')"
      ]
     },
     "execution_count": 20,
     "metadata": {},
     "output_type": "execute_result"
    }
   ],
   "source": [
    "df.columns"
   ]
  },
  {
   "cell_type": "code",
   "execution_count": 31,
   "metadata": {
    "vscode": {
     "languageId": "ruby"
    }
   },
   "outputs": [
    {
     "name": "stdout",
     "output_type": "stream",
     "text": [
      "Rank                   int64\n",
      "CCA3                  object\n",
      "Country               object\n",
      "Capital               object\n",
      "Continent             object\n",
      "2022 Population        int64\n",
      "2020 Population        int64\n",
      "2015 Population        int64\n",
      "2010 Population        int64\n",
      "2000 Population        int64\n",
      "1990 Population        int64\n",
      "1980 Population        int64\n",
      "1970 Population        int64\n",
      "Area (km²)             int64\n",
      "Density (per km²)    float64\n",
      "Growth Rate          float64\n",
      "Address               object\n",
      "dtype: object\n"
     ]
    }
   ],
   "source": [
    "# Chuyển các cột dân số thành kiểu integer\n",
    "population_columns = ['2022 Population', '2020 Population', '2015 Population', \n",
    "                      '2010 Population', '2000 Population', '1990 Population', \n",
    "                      '1980 Population', '1970 Population']\n",
    "\n",
    "for col in population_columns:\n",
    "    df[col] = df[col].astype('int64')\n",
    "\n",
    "# Chuyển diện tích thành kiểu integer\n",
    "df['Area (km²)'] = df['Area (km²)'].astype('int64')\n",
    "\n",
    "# Giữ Density và Growth Rate là float vì chúng có giá trị thập phân\n",
    "# Chuyển Rank thành int\n",
    "df['Rank'] = df['Rank'].astype('int64')\n",
    "\n",
    "# Hiển thị kiểu dữ liệu sau khi chuyển đổi\n",
    "print(df.dtypes)"
   ]
  }
 ],
 "metadata": {
  "kernelspec": {
   "display_name": "Python 3 (ipykernel)",
   "language": "python",
   "name": "python3"
  },
  "language_info": {
   "codemirror_mode": {
    "name": "ipython",
    "version": 3
   },
   "file_extension": ".py",
   "mimetype": "text/x-python",
   "name": "python",
   "nbconvert_exporter": "python",
   "pygments_lexer": "ipython3",
   "version": "3.12.9"
  }
 },
 "nbformat": 4,
 "nbformat_minor": 4
}
