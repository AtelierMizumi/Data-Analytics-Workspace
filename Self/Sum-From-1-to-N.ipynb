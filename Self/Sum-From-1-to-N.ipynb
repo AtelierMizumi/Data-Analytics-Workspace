{
 "cells": [
  {
   "cell_type": "markdown",
   "id": "91b371be-0181-4bf1-bdeb-68062c627476",
   "metadata": {},
   "source": [
    "# Sum\n",
    "\n",
    "A program that return the sum from 1 to n"
   ]
  },
  {
   "cell_type": "code",
   "execution_count": 1,
   "id": "9cd12387-2024-4d32-95c1-502d12dde35d",
   "metadata": {},
   "outputs": [
    {
     "name": "stdin",
     "output_type": "stream",
     "text": [
      " 24\n"
     ]
    },
    {
     "name": "stdout",
     "output_type": "stream",
     "text": [
      "300\n"
     ]
    }
   ],
   "source": [
    "n = int(input())\n",
    "sum = 0\n",
    "for i in range(1,n+1):\n",
    "    sum+=i\n",
    "print(sum)"
   ]
  }
 ],
 "metadata": {
  "kernelspec": {
   "display_name": "Python 3 (ipykernel)",
   "language": "python",
   "name": "python3"
  },
  "language_info": {
   "codemirror_mode": {
    "name": "ipython",
    "version": 3
   },
   "file_extension": ".py",
   "mimetype": "text/x-python",
   "name": "python",
   "nbconvert_exporter": "python",
   "pygments_lexer": "ipython3",
   "version": "3.12.8"
  }
 },
 "nbformat": 4,
 "nbformat_minor": 5
}
