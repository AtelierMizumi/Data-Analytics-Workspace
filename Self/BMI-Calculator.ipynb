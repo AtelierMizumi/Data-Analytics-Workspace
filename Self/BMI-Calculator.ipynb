{
 "cells": [
  {
   "cell_type": "markdown",
   "id": "91b371be-0181-4bf1-bdeb-68062c627476",
   "metadata": {},
   "source": [
    "# BMI Calculator\n",
    "\n",
    "Input your height and weight and get a BMI number and a comment on your BMI number"
   ]
  },
  {
   "cell_type": "code",
   "execution_count": 2,
   "id": "9cd12387-2024-4d32-95c1-502d12dde35d",
   "metadata": {},
   "outputs": [
    {
     "name": "stdin",
     "output_type": "stream",
     "text": [
      "Enter weight in kilograms:  52\n",
      "Enter height in meters:  1.71\n"
     ]
    },
    {
     "name": "stdout",
     "output_type": "stream",
     "text": [
      "Your BMI is: 17.78\n",
      "You are underweight.\n"
     ]
    }
   ],
   "source": [
    "# Input weight in kilograms\n",
    "# Input weight in kilograms\n",
    "weight = float(input(\"Enter weight in kilograms: \"))\n",
    "\n",
    "# Input height in meters\n",
    "height = float(input(\"Enter height in meters: \"))\n",
    "\n",
    "# Calculate BMI\n",
    "bmi = weight / (height ** 2)\n",
    "\n",
    "# Print the BMI\n",
    "# Print the BMI\n",
    "print(f\"Your BMI is: {bmi:.2f}\")\n",
    "\n",
    "# Determine the BMI category\n",
    "if bmi < 18.5:\n",
    "    print(\"You are underweight.\")\n",
    "elif 18.5 <= bmi < 24.9:\n",
    "    print(\"You have a normal weight.\")\n",
    "elif 25 <= bmi < 29.9:\n",
    "    print(\"You are overweight.\")\n",
    "else:\n",
    "    print(\"You are obese.\")"
   ]
  }
 ],
 "metadata": {
  "kernelspec": {
   "display_name": "Python 3 (ipykernel)",
   "language": "python",
   "name": "python3"
  },
  "language_info": {
   "codemirror_mode": {
    "name": "ipython",
    "version": 3
   },
   "file_extension": ".py",
   "mimetype": "text/x-python",
   "name": "python",
   "nbconvert_exporter": "python",
   "pygments_lexer": "ipython3",
   "version": "3.12.9"
  }
 },
 "nbformat": 4,
 "nbformat_minor": 5
}
