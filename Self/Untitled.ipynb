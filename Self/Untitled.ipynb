{
 "cells": [
  {
   "cell_type": "markdown",
   "id": "51364e91-91e8-48bf-910f-fc3ae248ece6",
   "metadata": {},
   "source": [
    "# Example Python program to test out the "
   ]
  },
  {
   "cell_type": "code",
   "execution_count": 7,
   "id": "1f0503e6-41a9-456a-8bd7-84cba5059b18",
   "metadata": {},
   "outputs": [
    {
     "name": "stdout",
     "output_type": "stream",
     "text": [
      "Requirement already satisfied: yfinance in /home/thuanc177/.conda/envs/jupyter/lib/python3.12/site-packages (0.2.51)\n",
      "Requirement already satisfied: pandas>=1.3.0 in /home/thuanc177/.conda/envs/jupyter/lib/python3.12/site-packages (from yfinance) (2.2.3)\n",
      "Requirement already satisfied: numpy>=1.16.5 in /home/thuanc177/.conda/envs/jupyter/lib/python3.12/site-packages (from yfinance) (1.26.4)\n",
      "Requirement already satisfied: requests>=2.31 in /home/thuanc177/.conda/envs/jupyter/lib/python3.12/site-packages (from yfinance) (2.32.3)\n",
      "Requirement already satisfied: multitasking>=0.0.7 in /home/thuanc177/.conda/envs/jupyter/lib/python3.12/site-packages (from yfinance) (0.0.11)\n",
      "Requirement already satisfied: lxml>=4.9.1 in /home/thuanc177/.conda/envs/jupyter/lib/python3.12/site-packages (from yfinance) (5.3.0)\n",
      "Requirement already satisfied: platformdirs>=2.0.0 in /home/thuanc177/.conda/envs/jupyter/lib/python3.12/site-packages (from yfinance) (3.10.0)\n",
      "Requirement already satisfied: pytz>=2022.5 in /home/thuanc177/.conda/envs/jupyter/lib/python3.12/site-packages (from yfinance) (2024.1)\n",
      "Requirement already satisfied: frozendict>=2.3.4 in /home/thuanc177/.conda/envs/jupyter/lib/python3.12/site-packages (from yfinance) (2.4.6)\n",
      "Requirement already satisfied: peewee>=3.16.2 in /home/thuanc177/.conda/envs/jupyter/lib/python3.12/site-packages (from yfinance) (3.17.8)\n",
      "Requirement already satisfied: beautifulsoup4>=4.11.1 in /home/thuanc177/.conda/envs/jupyter/lib/python3.12/site-packages (from yfinance) (4.12.3)\n",
      "Requirement already satisfied: html5lib>=1.1 in /home/thuanc177/.conda/envs/jupyter/lib/python3.12/site-packages (from yfinance) (1.1)\n",
      "Requirement already satisfied: soupsieve>1.2 in /home/thuanc177/.conda/envs/jupyter/lib/python3.12/site-packages (from beautifulsoup4>=4.11.1->yfinance) (2.5)\n",
      "Requirement already satisfied: six>=1.9 in /home/thuanc177/.conda/envs/jupyter/lib/python3.12/site-packages (from html5lib>=1.1->yfinance) (1.16.0)\n",
      "Requirement already satisfied: webencodings in /home/thuanc177/.conda/envs/jupyter/lib/python3.12/site-packages (from html5lib>=1.1->yfinance) (0.5.1)\n",
      "Requirement already satisfied: python-dateutil>=2.8.2 in /home/thuanc177/.conda/envs/jupyter/lib/python3.12/site-packages (from pandas>=1.3.0->yfinance) (2.9.0.post0)\n",
      "Requirement already satisfied: tzdata>=2022.7 in /home/thuanc177/.conda/envs/jupyter/lib/python3.12/site-packages (from pandas>=1.3.0->yfinance) (2023.3)\n",
      "Requirement already satisfied: charset-normalizer<4,>=2 in /home/thuanc177/.conda/envs/jupyter/lib/python3.12/site-packages (from requests>=2.31->yfinance) (3.3.2)\n",
      "Requirement already satisfied: idna<4,>=2.5 in /home/thuanc177/.conda/envs/jupyter/lib/python3.12/site-packages (from requests>=2.31->yfinance) (3.7)\n",
      "Requirement already satisfied: urllib3<3,>=1.21.1 in /home/thuanc177/.conda/envs/jupyter/lib/python3.12/site-packages (from requests>=2.31->yfinance) (2.2.3)\n",
      "Requirement already satisfied: certifi>=2017.4.17 in /home/thuanc177/.conda/envs/jupyter/lib/python3.12/site-packages (from requests>=2.31->yfinance) (2024.12.14)\n",
      "Note: you may need to restart the kernel to use updated packages.\n"
     ]
    }
   ],
   "source": [
    "pip install yfinance"
   ]
  },
  {
   "cell_type": "code",
   "execution_count": 4,
   "id": "56a07d62-12d1-4c01-a13a-cebb19759161",
   "metadata": {},
   "outputs": [
    {
     "name": "stdout",
     "output_type": "stream",
     "text": [
      "[0.45270398 0.99733938 0.21356905 ... 0.77566441 0.58121208 0.48897946]\n",
      "0.49998460893195457\n",
      "8.551976680755615\n"
     ]
    }
   ],
   "source": [
    "import numpy as np\n",
    "import time\n",
    "import array\n",
    "\n",
    "array = np.random.random(int(1e8))\n",
    "print(array)\n",
    "start = time.time()\n",
    "print(sum(array)/len(array))\n",
    "print(time.time() - start)"
   ]
  },
  {
   "cell_type": "code",
   "execution_count": 5,
   "id": "f539d24a-6248-4783-a780-e0af2dc687d4",
   "metadata": {},
   "outputs": [
    {
     "name": "stdout",
     "output_type": "stream",
     "text": [
      "[0.56948427 0.35568816 0.11703565 ... 0.19602653 0.07919165 0.38116881]\n",
      "0.05757737159729004\n"
     ]
    }
   ],
   "source": [
    "import numpy as np\n",
    "import time\n",
    "import array\n",
    "\n",
    "array = np.random.random(int(1e8))\n",
    "print(array)\n",
    "start = time.time()\n",
    "np.mean(array)\n",
    "print(time.time() - start)"
   ]
  },
  {
   "cell_type": "code",
   "execution_count": null,
   "id": "e8f7959d-ac7a-444f-8eec-ca382972a1e9",
   "metadata": {},
   "outputs": [],
   "source": [
    "import array\n",
    "import time\n",
    "from random import randint\n",
    "\n",
    "print(\"Generating array...\")\n",
    "\n",
    "start = time.time()\n",
    "\n",
    "array = []\n",
    "for i in range(1000000):\n",
    "    array.append(randint(1,100))\n",
    "sum = 0\n",
    "for i in array:\n",
    "    sum = sum + array[i]\n",
    "tbc = sum/len(array)\n",
    "print(tbc)\n",
    "finish = time.time()\n",
    "print(\"Time: \", finish - start)\n"
   ]
  },
  {
   "cell_type": "code",
   "execution_count": null,
   "id": "7aff6742-aa43-485d-ba5f-8d8ef4ab5feb",
   "metadata": {},
   "outputs": [],
   "source": []
  }
 ],
 "metadata": {
  "kernelspec": {
   "display_name": "Python 3 (ipykernel)",
   "language": "python",
   "name": "python3"
  },
  "language_info": {
   "codemirror_mode": {
    "name": "ipython",
    "version": 3
   },
   "file_extension": ".py",
   "mimetype": "text/x-python",
   "name": "python",
   "nbconvert_exporter": "python",
   "pygments_lexer": "ipython3",
   "version": "3.12.8"
  }
 },
 "nbformat": 4,
 "nbformat_minor": 5
}
