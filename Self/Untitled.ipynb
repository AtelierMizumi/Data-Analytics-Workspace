{
 "cells": [
  {
   "cell_type": "markdown",
   "id": "51364e91-91e8-48bf-910f-fc3ae248ece6",
   "metadata": {},
   "source": [
    "# Example Python program to test out the "
   ]
  },
  {
   "cell_type": "code",
   "execution_count": null,
   "id": "1f0503e6-41a9-456a-8bd7-84cba5059b18",
   "metadata": {},
   "outputs": [],
   "source": [
    "pip install yfinance"
   ]
  },
  {
   "cell_type": "code",
   "execution_count": 4,
   "id": "56a07d62-12d1-4c01-a13a-cebb19759161",
   "metadata": {},
   "outputs": [
    {
     "name": "stdout",
     "output_type": "stream",
     "text": [
      "[0.45270398 0.99733938 0.21356905 ... 0.77566441 0.58121208 0.48897946]\n",
      "0.49998460893195457\n",
      "8.551976680755615\n"
     ]
    }
   ],
   "source": [
    "import numpy as np\n",
    "import time\n",
    "import array\n",
    "\n",
    "array = np.random.random(int(1e8))\n",
    "print(array)\n",
    "start = time.time()\n",
    "print(sum(array)/len(array))\n",
    "print(time.time() - start)"
   ]
  },
  {
   "cell_type": "code",
   "execution_count": 5,
   "id": "f539d24a-6248-4783-a780-e0af2dc687d4",
   "metadata": {},
   "outputs": [
    {
     "name": "stdout",
     "output_type": "stream",
     "text": [
      "[0.56948427 0.35568816 0.11703565 ... 0.19602653 0.07919165 0.38116881]\n",
      "0.05757737159729004\n"
     ]
    }
   ],
   "source": [
    "import numpy as np\n",
    "import time\n",
    "import array\n",
    "\n",
    "array = np.random.random(int(1e8))\n",
    "print(array)\n",
    "start = time.time()\n",
    "np.mean(array)\n",
    "print(time.time() - start)"
   ]
  },
  {
   "cell_type": "code",
   "execution_count": null,
   "id": "e8f7959d-ac7a-444f-8eec-ca382972a1e9",
   "metadata": {},
   "outputs": [],
   "source": [
    "import array\n",
    "import time\n",
    "from random import randint\n",
    "\n",
    "print(\"Generating array...\")\n",
    "\n",
    "start = time.time()\n",
    "\n",
    "array = []\n",
    "for i in range(1000000):\n",
    "    array.append(randint(1,100))\n",
    "sum = 0\n",
    "for i in array:\n",
    "    sum = sum + array[i]\n",
    "tbc = sum/len(array)\n",
    "print(tbc)\n",
    "finish = time.time()\n",
    "print(\"Time: \", finish - start)\n"
   ]
  },
  {
   "cell_type": "code",
   "execution_count": null,
   "id": "7aff6742-aa43-485d-ba5f-8d8ef4ab5feb",
   "metadata": {},
   "outputs": [],
   "source": []
  }
 ],
 "metadata": {
  "kernelspec": {
   "display_name": "Python 3 (ipykernel)",
   "language": "python",
   "name": "python3"
  },
  "language_info": {
   "codemirror_mode": {
    "name": "ipython",
    "version": 3
   },
   "file_extension": ".py",
   "mimetype": "text/x-python",
   "name": "python",
   "nbconvert_exporter": "python",
   "pygments_lexer": "ipython3",
   "version": "3.12.9"
  }
 },
 "nbformat": 4,
 "nbformat_minor": 5
}
