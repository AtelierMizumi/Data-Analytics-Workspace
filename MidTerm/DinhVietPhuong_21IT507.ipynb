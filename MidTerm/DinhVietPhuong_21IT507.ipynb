{
  "cells": [
    {
      "cell_type": "markdown",
      "metadata": {
        "id": "GNIwe5N7s0e_"
      },
      "source": [
        "# Real-world Data Wrangling"
      ]
    },
    {
      "cell_type": "markdown",
      "metadata": {
        "id": "_BG63Tpg8ep_"
      },
      "source": [
        "##### Fullname: Đinh Việt Phương"
      ]
    },
    {
      "cell_type": "markdown",
      "metadata": {
        "id": "5BhokRCmjTF7"
      },
      "source": [
        "##### ID: 21IT507"
      ]
    },
    {
      "cell_type": "markdown",
      "metadata": {
        "id": "9Gl6Pb1bjTF7"
      },
      "source": [
        "##### Class: 21KIT"
      ]
    },
    {
      "cell_type": "markdown",
      "metadata": {
        "id": "lDYDkH-Zs7Nn"
      },
      "source": [
        "## 1. Gather data\n"
      ]
    },
    {
      "cell_type": "markdown",
      "metadata": {
        "id": "LbN7z7rcuqpO"
      },
      "source": [
        "### **1.1.** Problem Statement"
      ]
    },
    {
      "cell_type": "markdown",
      "metadata": {
        "id": "gi6swhjSYqu2"
      },
      "source": [
        "This project aims to practice my skills of data wrangling using real-world datasets.\n",
        "\n",
        "Your statements here\n",
        "\n",
        "In this dataset, I would like to answer the following research questions:\n",
        "\n",
        "Question 1: Loại phòng được đặt nhiều nhất\n",
        "\n",
        "Question 2: giá cao nhất\n",
        "\n",
        "Question 3: có bao nhiêu loại phòng khác nhau"
      ]
    },
    {
      "cell_type": "markdown",
      "metadata": {
        "id": "8AQfBAdUypMm"
      },
      "source": [
        "### **1.2.** Gather at least two datasets using two different data gathering methods\n"
      ]
    },
    {
      "cell_type": "markdown",
      "metadata": {
        "id": "xMUihb8cjTF9"
      },
      "source": [
        "Gather each of the 2 pieces of data from different sources:\n"
      ]
    },
    {
      "cell_type": "code",
      "execution_count": null,
      "metadata": {
        "id": "K_9ooTKljTF9"
      },
      "outputs": [],
      "source": [
        "# import libraries:\n",
        "import pandas as pd\n",
        "import numpy as np"
      ]
    },
    {
      "cell_type": "code",
      "execution_count": null,
      "metadata": {
        "id": "JyU4qlEOjTF-"
      },
      "outputs": [],
      "source": [
        "#FILL IN 1st data gathering and loading method\n",
        "df1 = pd.read_csv(r\"C:\\Users\\dinhv\\Downloads\\listing.csv\")\n",
        "df2 = pd.read_csv(r\"C:\\Users\\dinhv\\Downloads\\reviews.csv\")"
      ]
    },
    {
      "cell_type": "code",
      "execution_count": null,
      "metadata": {
        "id": "os7upis6jTF-",
        "outputId": "3dc7670b-8a13-4c6e-b097-14dae6d9d779"
      },
      "outputs": [
        {
          "data": {
            "text/html": [
              "<div>\n",
              "<style scoped>\n",
              "    .dataframe tbody tr th:only-of-type {\n",
              "        vertical-align: middle;\n",
              "    }\n",
              "\n",
              "    .dataframe tbody tr th {\n",
              "        vertical-align: top;\n",
              "    }\n",
              "\n",
              "    .dataframe thead th {\n",
              "        text-align: right;\n",
              "    }\n",
              "</style>\n",
              "<table border=\"1\" class=\"dataframe\">\n",
              "  <thead>\n",
              "    <tr style=\"text-align: right;\">\n",
              "      <th></th>\n",
              "      <th>id</th>\n",
              "      <th>name</th>\n",
              "      <th>summary</th>\n",
              "      <th>space</th>\n",
              "      <th>description</th>\n",
              "      <th>host_id</th>\n",
              "      <th>host_name</th>\n",
              "      <th>neighbourhood_group_cleansed</th>\n",
              "      <th>city</th>\n",
              "      <th>country_code</th>\n",
              "      <th>...</th>\n",
              "      <th>property_type</th>\n",
              "      <th>room_type</th>\n",
              "      <th>accommodates</th>\n",
              "      <th>bathrooms</th>\n",
              "      <th>bedrooms</th>\n",
              "      <th>beds</th>\n",
              "      <th>bed_type</th>\n",
              "      <th>amenities</th>\n",
              "      <th>square_feet</th>\n",
              "      <th>price</th>\n",
              "    </tr>\n",
              "  </thead>\n",
              "  <tbody>\n",
              "    <tr>\n",
              "      <th>0</th>\n",
              "      <td>241032</td>\n",
              "      <td>Stylish Queen Anne Apartment</td>\n",
              "      <td>NaN</td>\n",
              "      <td>Make your self at home in this charming one-be...</td>\n",
              "      <td>Make your self at home in this charming one-be...</td>\n",
              "      <td>956883</td>\n",
              "      <td>Maija</td>\n",
              "      <td>Queen Anne</td>\n",
              "      <td>Seattle</td>\n",
              "      <td>US</td>\n",
              "      <td>...</td>\n",
              "      <td>Apartment</td>\n",
              "      <td>Entire home/apt</td>\n",
              "      <td>4</td>\n",
              "      <td>1.0</td>\n",
              "      <td>1.0</td>\n",
              "      <td>1.0</td>\n",
              "      <td>Real Bed</td>\n",
              "      <td>{TV,\"Cable TV\",Internet,\"Wireless Internet\",\"A...</td>\n",
              "      <td>NaN</td>\n",
              "      <td>$85.00</td>\n",
              "    </tr>\n",
              "    <tr>\n",
              "      <th>1</th>\n",
              "      <td>953595</td>\n",
              "      <td>Bright &amp; Airy Queen Anne Apartment</td>\n",
              "      <td>Chemically sensitive? We've removed the irrita...</td>\n",
              "      <td>Beautiful, hypoallergenic apartment in an extr...</td>\n",
              "      <td>Chemically sensitive? We've removed the irrita...</td>\n",
              "      <td>5177328</td>\n",
              "      <td>Andrea</td>\n",
              "      <td>Queen Anne</td>\n",
              "      <td>Seattle</td>\n",
              "      <td>US</td>\n",
              "      <td>...</td>\n",
              "      <td>Apartment</td>\n",
              "      <td>Entire home/apt</td>\n",
              "      <td>4</td>\n",
              "      <td>1.0</td>\n",
              "      <td>1.0</td>\n",
              "      <td>1.0</td>\n",
              "      <td>Real Bed</td>\n",
              "      <td>{TV,Internet,\"Wireless Internet\",Kitchen,\"Free...</td>\n",
              "      <td>NaN</td>\n",
              "      <td>$150.00</td>\n",
              "    </tr>\n",
              "    <tr>\n",
              "      <th>2</th>\n",
              "      <td>3308979</td>\n",
              "      <td>New Modern House-Amazing water view</td>\n",
              "      <td>New modern house built in 2013.  Spectacular s...</td>\n",
              "      <td>Our house is modern, light and fresh with a wa...</td>\n",
              "      <td>New modern house built in 2013.  Spectacular s...</td>\n",
              "      <td>16708587</td>\n",
              "      <td>Jill</td>\n",
              "      <td>Queen Anne</td>\n",
              "      <td>Seattle</td>\n",
              "      <td>US</td>\n",
              "      <td>...</td>\n",
              "      <td>House</td>\n",
              "      <td>Entire home/apt</td>\n",
              "      <td>11</td>\n",
              "      <td>4.5</td>\n",
              "      <td>5.0</td>\n",
              "      <td>7.0</td>\n",
              "      <td>Real Bed</td>\n",
              "      <td>{TV,\"Cable TV\",Internet,\"Wireless Internet\",\"A...</td>\n",
              "      <td>NaN</td>\n",
              "      <td>$975.00</td>\n",
              "    </tr>\n",
              "    <tr>\n",
              "      <th>3</th>\n",
              "      <td>7421966</td>\n",
              "      <td>Queen Anne Chateau</td>\n",
              "      <td>A charming apartment that sits atop Queen Anne...</td>\n",
              "      <td>NaN</td>\n",
              "      <td>A charming apartment that sits atop Queen Anne...</td>\n",
              "      <td>9851441</td>\n",
              "      <td>Emily</td>\n",
              "      <td>Queen Anne</td>\n",
              "      <td>Seattle</td>\n",
              "      <td>US</td>\n",
              "      <td>...</td>\n",
              "      <td>Apartment</td>\n",
              "      <td>Entire home/apt</td>\n",
              "      <td>3</td>\n",
              "      <td>1.0</td>\n",
              "      <td>0.0</td>\n",
              "      <td>2.0</td>\n",
              "      <td>Real Bed</td>\n",
              "      <td>{Internet,\"Wireless Internet\",Kitchen,\"Indoor ...</td>\n",
              "      <td>NaN</td>\n",
              "      <td>$100.00</td>\n",
              "    </tr>\n",
              "    <tr>\n",
              "      <th>4</th>\n",
              "      <td>278830</td>\n",
              "      <td>Charming craftsman 3 bdm house</td>\n",
              "      <td>Cozy family craftman house in beautiful neighb...</td>\n",
              "      <td>Cozy family craftman house in beautiful neighb...</td>\n",
              "      <td>Cozy family craftman house in beautiful neighb...</td>\n",
              "      <td>1452570</td>\n",
              "      <td>Emily</td>\n",
              "      <td>Queen Anne</td>\n",
              "      <td>Seattle</td>\n",
              "      <td>US</td>\n",
              "      <td>...</td>\n",
              "      <td>House</td>\n",
              "      <td>Entire home/apt</td>\n",
              "      <td>6</td>\n",
              "      <td>2.0</td>\n",
              "      <td>3.0</td>\n",
              "      <td>3.0</td>\n",
              "      <td>Real Bed</td>\n",
              "      <td>{TV,\"Cable TV\",Internet,\"Wireless Internet\",Ki...</td>\n",
              "      <td>NaN</td>\n",
              "      <td>$450.00</td>\n",
              "    </tr>\n",
              "  </tbody>\n",
              "</table>\n",
              "<p>5 rows × 21 columns</p>\n",
              "</div>"
            ],
            "text/plain": [
              "        id                                 name  \\\n",
              "0   241032         Stylish Queen Anne Apartment   \n",
              "1   953595   Bright & Airy Queen Anne Apartment   \n",
              "2  3308979  New Modern House-Amazing water view   \n",
              "3  7421966                   Queen Anne Chateau   \n",
              "4   278830       Charming craftsman 3 bdm house   \n",
              "\n",
              "                                             summary  \\\n",
              "0                                                NaN   \n",
              "1  Chemically sensitive? We've removed the irrita...   \n",
              "2  New modern house built in 2013.  Spectacular s...   \n",
              "3  A charming apartment that sits atop Queen Anne...   \n",
              "4  Cozy family craftman house in beautiful neighb...   \n",
              "\n",
              "                                               space  \\\n",
              "0  Make your self at home in this charming one-be...   \n",
              "1  Beautiful, hypoallergenic apartment in an extr...   \n",
              "2  Our house is modern, light and fresh with a wa...   \n",
              "3                                                NaN   \n",
              "4  Cozy family craftman house in beautiful neighb...   \n",
              "\n",
              "                                         description   host_id host_name  \\\n",
              "0  Make your self at home in this charming one-be...    956883     Maija   \n",
              "1  Chemically sensitive? We've removed the irrita...   5177328    Andrea   \n",
              "2  New modern house built in 2013.  Spectacular s...  16708587      Jill   \n",
              "3  A charming apartment that sits atop Queen Anne...   9851441     Emily   \n",
              "4  Cozy family craftman house in beautiful neighb...   1452570     Emily   \n",
              "\n",
              "  neighbourhood_group_cleansed     city country_code  ... property_type  \\\n",
              "0                   Queen Anne  Seattle           US  ...     Apartment   \n",
              "1                   Queen Anne  Seattle           US  ...     Apartment   \n",
              "2                   Queen Anne  Seattle           US  ...         House   \n",
              "3                   Queen Anne  Seattle           US  ...     Apartment   \n",
              "4                   Queen Anne  Seattle           US  ...         House   \n",
              "\n",
              "         room_type accommodates  bathrooms  bedrooms  beds  bed_type  \\\n",
              "0  Entire home/apt            4        1.0       1.0   1.0  Real Bed   \n",
              "1  Entire home/apt            4        1.0       1.0   1.0  Real Bed   \n",
              "2  Entire home/apt           11        4.5       5.0   7.0  Real Bed   \n",
              "3  Entire home/apt            3        1.0       0.0   2.0  Real Bed   \n",
              "4  Entire home/apt            6        2.0       3.0   3.0  Real Bed   \n",
              "\n",
              "                                           amenities square_feet     price  \n",
              "0  {TV,\"Cable TV\",Internet,\"Wireless Internet\",\"A...         NaN   $85.00   \n",
              "1  {TV,Internet,\"Wireless Internet\",Kitchen,\"Free...         NaN  $150.00   \n",
              "2  {TV,\"Cable TV\",Internet,\"Wireless Internet\",\"A...         NaN  $975.00   \n",
              "3  {Internet,\"Wireless Internet\",Kitchen,\"Indoor ...         NaN  $100.00   \n",
              "4  {TV,\"Cable TV\",Internet,\"Wireless Internet\",Ki...         NaN  $450.00   \n",
              "\n",
              "[5 rows x 21 columns]"
            ]
          },
          "execution_count": 7,
          "metadata": {},
          "output_type": "execute_result"
        }
      ],
      "source": [
        "df1.head()"
      ]
    },
    {
      "cell_type": "code",
      "execution_count": null,
      "metadata": {
        "id": "EdX1QaS_jTF-",
        "outputId": "4e5a7fb2-e06d-473c-90ae-655011963211"
      },
      "outputs": [
        {
          "data": {
            "text/html": [
              "<div>\n",
              "<style scoped>\n",
              "    .dataframe tbody tr th:only-of-type {\n",
              "        vertical-align: middle;\n",
              "    }\n",
              "\n",
              "    .dataframe tbody tr th {\n",
              "        vertical-align: top;\n",
              "    }\n",
              "\n",
              "    .dataframe thead th {\n",
              "        text-align: right;\n",
              "    }\n",
              "</style>\n",
              "<table border=\"1\" class=\"dataframe\">\n",
              "  <thead>\n",
              "    <tr style=\"text-align: right;\">\n",
              "      <th></th>\n",
              "      <th>listing_id</th>\n",
              "      <th>id</th>\n",
              "      <th>date</th>\n",
              "      <th>reviewer_id</th>\n",
              "      <th>reviewer_name</th>\n",
              "      <th>comments</th>\n",
              "    </tr>\n",
              "  </thead>\n",
              "  <tbody>\n",
              "    <tr>\n",
              "      <th>0</th>\n",
              "      <td>7202016</td>\n",
              "      <td>38917982</td>\n",
              "      <td>7/19/2015</td>\n",
              "      <td>28943674</td>\n",
              "      <td>Bianca</td>\n",
              "      <td>Cute and cozy place. Perfect location to every...</td>\n",
              "    </tr>\n",
              "    <tr>\n",
              "      <th>1</th>\n",
              "      <td>7202016</td>\n",
              "      <td>39087409</td>\n",
              "      <td>7/20/2015</td>\n",
              "      <td>32440555</td>\n",
              "      <td>Frank</td>\n",
              "      <td>Kelly has a great room in a very central locat...</td>\n",
              "    </tr>\n",
              "    <tr>\n",
              "      <th>2</th>\n",
              "      <td>7202016</td>\n",
              "      <td>39820030</td>\n",
              "      <td>7/26/2015</td>\n",
              "      <td>37722850</td>\n",
              "      <td>Ian</td>\n",
              "      <td>Very spacious apartment, and in a great neighb...</td>\n",
              "    </tr>\n",
              "    <tr>\n",
              "      <th>3</th>\n",
              "      <td>7202016</td>\n",
              "      <td>40813543</td>\n",
              "      <td>8/2/2015</td>\n",
              "      <td>33671805</td>\n",
              "      <td>George</td>\n",
              "      <td>Close to Seattle Center and all it has to offe...</td>\n",
              "    </tr>\n",
              "    <tr>\n",
              "      <th>4</th>\n",
              "      <td>7202016</td>\n",
              "      <td>41986501</td>\n",
              "      <td>8/10/2015</td>\n",
              "      <td>34959538</td>\n",
              "      <td>Ming</td>\n",
              "      <td>Kelly was a great host and very accommodating ...</td>\n",
              "    </tr>\n",
              "  </tbody>\n",
              "</table>\n",
              "</div>"
            ],
            "text/plain": [
              "   listing_id        id       date  reviewer_id reviewer_name  \\\n",
              "0     7202016  38917982  7/19/2015     28943674        Bianca   \n",
              "1     7202016  39087409  7/20/2015     32440555         Frank   \n",
              "2     7202016  39820030  7/26/2015     37722850           Ian   \n",
              "3     7202016  40813543   8/2/2015     33671805        George   \n",
              "4     7202016  41986501  8/10/2015     34959538          Ming   \n",
              "\n",
              "                                            comments  \n",
              "0  Cute and cozy place. Perfect location to every...  \n",
              "1  Kelly has a great room in a very central locat...  \n",
              "2  Very spacious apartment, and in a great neighb...  \n",
              "3  Close to Seattle Center and all it has to offe...  \n",
              "4  Kelly was a great host and very accommodating ...  "
            ]
          },
          "execution_count": 8,
          "metadata": {},
          "output_type": "execute_result"
        }
      ],
      "source": [
        "# Write data to local file\n",
        "df2.head()"
      ]
    },
    {
      "cell_type": "markdown",
      "metadata": {
        "id": "QUEsKvpQjTF_"
      },
      "source": [
        "## Exploring data set"
      ]
    },
    {
      "cell_type": "code",
      "execution_count": null,
      "metadata": {
        "id": "yA-0mN9-jTF_",
        "outputId": "643557f6-51c5-4104-8980-792f73a0e3be"
      },
      "outputs": [
        {
          "name": "stdout",
          "output_type": "stream",
          "text": [
            "<class 'pandas.core.frame.DataFrame'>\n",
            "RangeIndex: 3818 entries, 0 to 3817\n",
            "Data columns (total 21 columns):\n",
            " #   Column                        Non-Null Count  Dtype  \n",
            "---  ------                        --------------  -----  \n",
            " 0   id                            3818 non-null   int64  \n",
            " 1   name                          3818 non-null   object \n",
            " 2   summary                       3641 non-null   object \n",
            " 3   space                         3249 non-null   object \n",
            " 4   description                   3818 non-null   object \n",
            " 5   host_id                       3818 non-null   int64  \n",
            " 6   host_name                     3816 non-null   object \n",
            " 7   neighbourhood_group_cleansed  3818 non-null   object \n",
            " 8   city                          3818 non-null   object \n",
            " 9   country_code                  3818 non-null   object \n",
            " 10  country                       3818 non-null   object \n",
            " 11  property_type                 3817 non-null   object \n",
            " 12  room_type                     3818 non-null   object \n",
            " 13  accommodates                  3818 non-null   int64  \n",
            " 14  bathrooms                     3802 non-null   float64\n",
            " 15  bedrooms                      3812 non-null   float64\n",
            " 16  beds                          3817 non-null   float64\n",
            " 17  bed_type                      3818 non-null   object \n",
            " 18  amenities                     3818 non-null   object \n",
            " 19  square_feet                   97 non-null     float64\n",
            " 20  price                         3818 non-null   object \n",
            "dtypes: float64(4), int64(3), object(14)\n",
            "memory usage: 626.5+ KB\n"
          ]
        }
      ],
      "source": [
        "df1.info()"
      ]
    },
    {
      "cell_type": "code",
      "execution_count": null,
      "metadata": {
        "id": "0pAQV-ZBjTF_",
        "outputId": "ccee3acf-ec1c-4b8c-b199-1a85a374087c"
      },
      "outputs": [
        {
          "data": {
            "text/html": [
              "<div>\n",
              "<style scoped>\n",
              "    .dataframe tbody tr th:only-of-type {\n",
              "        vertical-align: middle;\n",
              "    }\n",
              "\n",
              "    .dataframe tbody tr th {\n",
              "        vertical-align: top;\n",
              "    }\n",
              "\n",
              "    .dataframe thead th {\n",
              "        text-align: right;\n",
              "    }\n",
              "</style>\n",
              "<table border=\"1\" class=\"dataframe\">\n",
              "  <thead>\n",
              "    <tr style=\"text-align: right;\">\n",
              "      <th></th>\n",
              "      <th>id</th>\n",
              "      <th>host_id</th>\n",
              "      <th>accommodates</th>\n",
              "      <th>bathrooms</th>\n",
              "      <th>bedrooms</th>\n",
              "      <th>beds</th>\n",
              "      <th>square_feet</th>\n",
              "    </tr>\n",
              "  </thead>\n",
              "  <tbody>\n",
              "    <tr>\n",
              "      <th>count</th>\n",
              "      <td>3.818000e+03</td>\n",
              "      <td>3.818000e+03</td>\n",
              "      <td>3818.000000</td>\n",
              "      <td>3802.000000</td>\n",
              "      <td>3812.000000</td>\n",
              "      <td>3817.000000</td>\n",
              "      <td>97.000000</td>\n",
              "    </tr>\n",
              "    <tr>\n",
              "      <th>mean</th>\n",
              "      <td>5.550111e+06</td>\n",
              "      <td>1.578556e+07</td>\n",
              "      <td>3.349398</td>\n",
              "      <td>1.259469</td>\n",
              "      <td>1.307712</td>\n",
              "      <td>1.735394</td>\n",
              "      <td>854.618557</td>\n",
              "    </tr>\n",
              "    <tr>\n",
              "      <th>std</th>\n",
              "      <td>2.962660e+06</td>\n",
              "      <td>1.458382e+07</td>\n",
              "      <td>1.977599</td>\n",
              "      <td>0.590369</td>\n",
              "      <td>0.883395</td>\n",
              "      <td>1.139480</td>\n",
              "      <td>671.404893</td>\n",
              "    </tr>\n",
              "    <tr>\n",
              "      <th>min</th>\n",
              "      <td>3.335000e+03</td>\n",
              "      <td>4.193000e+03</td>\n",
              "      <td>1.000000</td>\n",
              "      <td>0.000000</td>\n",
              "      <td>0.000000</td>\n",
              "      <td>1.000000</td>\n",
              "      <td>0.000000</td>\n",
              "    </tr>\n",
              "    <tr>\n",
              "      <th>25%</th>\n",
              "      <td>3.258256e+06</td>\n",
              "      <td>3.275204e+06</td>\n",
              "      <td>2.000000</td>\n",
              "      <td>1.000000</td>\n",
              "      <td>1.000000</td>\n",
              "      <td>1.000000</td>\n",
              "      <td>420.000000</td>\n",
              "    </tr>\n",
              "    <tr>\n",
              "      <th>50%</th>\n",
              "      <td>6.118244e+06</td>\n",
              "      <td>1.055814e+07</td>\n",
              "      <td>3.000000</td>\n",
              "      <td>1.000000</td>\n",
              "      <td>1.000000</td>\n",
              "      <td>1.000000</td>\n",
              "      <td>750.000000</td>\n",
              "    </tr>\n",
              "    <tr>\n",
              "      <th>75%</th>\n",
              "      <td>8.035127e+06</td>\n",
              "      <td>2.590309e+07</td>\n",
              "      <td>4.000000</td>\n",
              "      <td>1.000000</td>\n",
              "      <td>2.000000</td>\n",
              "      <td>2.000000</td>\n",
              "      <td>1200.000000</td>\n",
              "    </tr>\n",
              "    <tr>\n",
              "      <th>max</th>\n",
              "      <td>1.034016e+07</td>\n",
              "      <td>5.320861e+07</td>\n",
              "      <td>16.000000</td>\n",
              "      <td>8.000000</td>\n",
              "      <td>7.000000</td>\n",
              "      <td>15.000000</td>\n",
              "      <td>3000.000000</td>\n",
              "    </tr>\n",
              "  </tbody>\n",
              "</table>\n",
              "</div>"
            ],
            "text/plain": [
              "                 id       host_id  accommodates    bathrooms     bedrooms  \\\n",
              "count  3.818000e+03  3.818000e+03   3818.000000  3802.000000  3812.000000   \n",
              "mean   5.550111e+06  1.578556e+07      3.349398     1.259469     1.307712   \n",
              "std    2.962660e+06  1.458382e+07      1.977599     0.590369     0.883395   \n",
              "min    3.335000e+03  4.193000e+03      1.000000     0.000000     0.000000   \n",
              "25%    3.258256e+06  3.275204e+06      2.000000     1.000000     1.000000   \n",
              "50%    6.118244e+06  1.055814e+07      3.000000     1.000000     1.000000   \n",
              "75%    8.035127e+06  2.590309e+07      4.000000     1.000000     2.000000   \n",
              "max    1.034016e+07  5.320861e+07     16.000000     8.000000     7.000000   \n",
              "\n",
              "              beds  square_feet  \n",
              "count  3817.000000    97.000000  \n",
              "mean      1.735394   854.618557  \n",
              "std       1.139480   671.404893  \n",
              "min       1.000000     0.000000  \n",
              "25%       1.000000   420.000000  \n",
              "50%       1.000000   750.000000  \n",
              "75%       2.000000  1200.000000  \n",
              "max      15.000000  3000.000000  "
            ]
          },
          "execution_count": 10,
          "metadata": {},
          "output_type": "execute_result"
        }
      ],
      "source": [
        "df1.describe()"
      ]
    },
    {
      "cell_type": "code",
      "execution_count": null,
      "metadata": {
        "id": "fGbz_-xkjTF_"
      },
      "outputs": [],
      "source": [
        "# Dataset phong\n",
        "#Fiil in 1: xử lý các giá trị null\n",
        "# Fill in 2: xóa các cột không cần thiết\n",
        "# fill in 3: xóa các cột duplipcate\n",
        "# fill in 4: xử lý giá trị out data của cột beds bằng giá trị trung bình"
      ]
    },
    {
      "cell_type": "markdown",
      "metadata": {
        "id": "QwSWIVmotLgV"
      },
      "source": [
        "## 2. Assess data\n"
      ]
    },
    {
      "cell_type": "markdown",
      "metadata": {
        "id": "Y4X_eCoJjTF_"
      },
      "source": [
        "I will assess the data both visually and programmatically to identify any data quality(content) issues and tidiness(structual) issues.\n"
      ]
    },
    {
      "cell_type": "markdown",
      "metadata": {
        "id": "adaK2iPNzVu4"
      },
      "source": [
        "### Quality Issue 1:"
      ]
    },
    {
      "cell_type": "code",
      "execution_count": null,
      "metadata": {
        "id": "SpW59kh-zl8d",
        "outputId": "bce53246-771b-46fd-f0c9-6a1e104ed0d2"
      },
      "outputs": [
        {
          "data": {
            "text/plain": [
              "id                                 0\n",
              "name                               0\n",
              "summary                          177\n",
              "space                            569\n",
              "description                        0\n",
              "host_id                            0\n",
              "host_name                          2\n",
              "neighbourhood_group_cleansed       0\n",
              "city                               0\n",
              "country_code                       0\n",
              "country                            0\n",
              "property_type                      1\n",
              "room_type                          0\n",
              "accommodates                       0\n",
              "bathrooms                         16\n",
              "bedrooms                           6\n",
              "beds                               1\n",
              "bed_type                           0\n",
              "amenities                          0\n",
              "square_feet                     3721\n",
              "price                              0\n",
              "dtype: int64"
            ]
          },
          "execution_count": 12,
          "metadata": {},
          "output_type": "execute_result"
        }
      ],
      "source": [
        "#FILL IN - xử lý các giá trị null\n",
        "df1.isnull().sum()"
      ]
    },
    {
      "cell_type": "code",
      "execution_count": null,
      "metadata": {
        "id": "cCTHK_YxjTGA"
      },
      "outputs": [],
      "source": [
        "# xóa cột chứa giá trị null\n",
        "df1.drop(['square_feet'], axis=1, inplace=True)"
      ]
    },
    {
      "cell_type": "code",
      "execution_count": null,
      "metadata": {
        "id": "FVfg3EGHjTGA"
      },
      "outputs": [],
      "source": [
        "#drop na\n",
        "df1.dropna(inplace=True)"
      ]
    },
    {
      "cell_type": "code",
      "execution_count": null,
      "metadata": {
        "id": "e2E539LYjTGA",
        "outputId": "49b155e0-732d-4a54-c67b-b8de79fd4efd"
      },
      "outputs": [
        {
          "data": {
            "text/plain": [
              "id                              0\n",
              "name                            0\n",
              "summary                         0\n",
              "space                           0\n",
              "description                     0\n",
              "host_id                         0\n",
              "host_name                       0\n",
              "neighbourhood_group_cleansed    0\n",
              "city                            0\n",
              "country_code                    0\n",
              "country                         0\n",
              "property_type                   0\n",
              "room_type                       0\n",
              "accommodates                    0\n",
              "bathrooms                       0\n",
              "bedrooms                        0\n",
              "beds                            0\n",
              "bed_type                        0\n",
              "amenities                       0\n",
              "price                           0\n",
              "dtype: int64"
            ]
          },
          "execution_count": 15,
          "metadata": {},
          "output_type": "execute_result"
        }
      ],
      "source": [
        "df1.isnull().sum()"
      ]
    },
    {
      "cell_type": "code",
      "execution_count": null,
      "metadata": {
        "id": "N_8SNKoqjTGA"
      },
      "outputs": [],
      "source": [
        "#FILL IN 2: xử lý các cột không cần thiết của 2 data\n",
        "df1.drop(['name'], axis=1, inplace=True)"
      ]
    },
    {
      "cell_type": "code",
      "execution_count": null,
      "metadata": {
        "id": "G0wQ6jwojTGA",
        "outputId": "f2092d84-a73c-43dd-d084-fa0bb41e9d86"
      },
      "outputs": [
        {
          "data": {
            "text/html": [
              "<div>\n",
              "<style scoped>\n",
              "    .dataframe tbody tr th:only-of-type {\n",
              "        vertical-align: middle;\n",
              "    }\n",
              "\n",
              "    .dataframe tbody tr th {\n",
              "        vertical-align: top;\n",
              "    }\n",
              "\n",
              "    .dataframe thead th {\n",
              "        text-align: right;\n",
              "    }\n",
              "</style>\n",
              "<table border=\"1\" class=\"dataframe\">\n",
              "  <thead>\n",
              "    <tr style=\"text-align: right;\">\n",
              "      <th></th>\n",
              "      <th>id</th>\n",
              "      <th>summary</th>\n",
              "      <th>space</th>\n",
              "      <th>description</th>\n",
              "      <th>host_id</th>\n",
              "      <th>host_name</th>\n",
              "      <th>neighbourhood_group_cleansed</th>\n",
              "      <th>city</th>\n",
              "      <th>country_code</th>\n",
              "      <th>country</th>\n",
              "      <th>property_type</th>\n",
              "      <th>room_type</th>\n",
              "      <th>accommodates</th>\n",
              "      <th>bathrooms</th>\n",
              "      <th>bedrooms</th>\n",
              "      <th>beds</th>\n",
              "      <th>bed_type</th>\n",
              "      <th>amenities</th>\n",
              "      <th>price</th>\n",
              "    </tr>\n",
              "  </thead>\n",
              "  <tbody>\n",
              "  </tbody>\n",
              "</table>\n",
              "</div>"
            ],
            "text/plain": [
              "Empty DataFrame\n",
              "Columns: [id, summary, space, description, host_id, host_name, neighbourhood_group_cleansed, city, country_code, country, property_type, room_type, accommodates, bathrooms, bedrooms, beds, bed_type, amenities, price]\n",
              "Index: []"
            ]
          },
          "execution_count": 17,
          "metadata": {},
          "output_type": "execute_result"
        }
      ],
      "source": [
        "#FILL IN 3: xử lý các cột trùng lặp\n",
        "duplicate_rows = df1[df1.duplicated()]\n",
        "duplicate_rows"
      ]
    },
    {
      "cell_type": "code",
      "execution_count": null,
      "metadata": {
        "id": "XcfplF36jTGB"
      },
      "outputs": [],
      "source": [
        "## không có cột trùng lặp nào"
      ]
    },
    {
      "cell_type": "code",
      "execution_count": null,
      "metadata": {
        "id": "7mAQLM2tjTGB",
        "outputId": "9bcf9668-b9de-4e1c-91ef-587dfce04d85"
      },
      "outputs": [
        {
          "data": {
            "text/plain": [
              "15.0"
            ]
          },
          "execution_count": 19,
          "metadata": {},
          "output_type": "execute_result"
        }
      ],
      "source": [
        "# xử lý out data\n",
        "df1['beds'].max()"
      ]
    },
    {
      "cell_type": "code",
      "execution_count": null,
      "metadata": {
        "id": "18-HAVhkjTGB"
      },
      "outputs": [],
      "source": [
        "mean_value = df1['beds'].mean()\n",
        "\n",
        "# Thay thế các giá trị lớn nhất trong cột 'beds' bằng giá trị trung bình\n",
        "max_value = df1['beds'].max()\n",
        "df1['beds'] = df1['beds'].replace(max_value, mean_value)"
      ]
    },
    {
      "cell_type": "code",
      "execution_count": null,
      "metadata": {
        "id": "Wj7jvMNHjTGB",
        "outputId": "55c32bd6-225a-4f5a-d5c6-33771f5ab403"
      },
      "outputs": [
        {
          "data": {
            "text/plain": [
              "10.0"
            ]
          },
          "execution_count": 21,
          "metadata": {},
          "output_type": "execute_result"
        }
      ],
      "source": [
        "\n",
        "df1['beds'].max()"
      ]
    },
    {
      "cell_type": "code",
      "execution_count": null,
      "metadata": {
        "id": "wmsiVcHEjTGB",
        "outputId": "c463f88f-b619-4d68-b98a-848485a61f0f"
      },
      "outputs": [
        {
          "name": "stdout",
          "output_type": "stream",
          "text": [
            "Loại phòng được đặt nhiều nhất là: Entire home/apt\n"
          ]
        }
      ],
      "source": [
        "# Câu hỏi 1: Loại phòng được đặt nhiều nhất\n",
        "most_booked_room_type = df1['room_type'].value_counts().idxmax()\n",
        "print(\"Loại phòng được đặt nhiều nhất là:\", most_booked_room_type)"
      ]
    },
    {
      "cell_type": "code",
      "execution_count": null,
      "metadata": {
        "id": "qBVTgZTvjTGB",
        "outputId": "40bde25a-be53-41a4-d424-c42e912a8ba0"
      },
      "outputs": [
        {
          "name": "stdout",
          "output_type": "stream",
          "text": [
            "Giá cao nhất là: $999.00 \n"
          ]
        }
      ],
      "source": [
        "# Câu hỏi 2: Giá cao nhất\n",
        "max_price = df1['price'].max()\n",
        "print(\"Giá cao nhất là:\", max_price)"
      ]
    },
    {
      "cell_type": "code",
      "execution_count": null,
      "metadata": {
        "id": "5mHHZErjjTGB",
        "outputId": "a40f79a0-bafa-49de-bd6b-81138696c37c"
      },
      "outputs": [
        {
          "name": "stdout",
          "output_type": "stream",
          "text": [
            "Số loại phòng khác nhau là: 3\n"
          ]
        }
      ],
      "source": [
        "# Câu hỏi 3: Số loại phòng khác nhau\n",
        "num_unique_room_types = df1['room_type'].nunique()\n",
        "print(\"Số loại phòng khác nhau là:\", num_unique_room_types)"
      ]
    },
    {
      "cell_type": "markdown",
      "metadata": {
        "id": "Zsyw6ahvjTGB"
      },
      "source": [
        "## Merge 2 dataset if needed"
      ]
    },
    {
      "cell_type": "code",
      "execution_count": null,
      "metadata": {
        "id": "9bIO0bGFjTGC"
      },
      "outputs": [],
      "source": [
        "#merge 2data\n",
        "df_merge = pd.merge(\n",
        "    left=df1,\n",
        "    right=df2,\n",
        "    how='inner',\n",
        "    left_on=['id'],\n",
        "    right_on=['listing_id']\n",
        ")\n",
        "# luu du lieu\n",
        "df_merge.to_csv(r'C:\\Users\\dinhv\\Downloads\\merged_data.csv', index=False)\n"
      ]
    },
    {
      "cell_type": "code",
      "execution_count": null,
      "metadata": {
        "id": "oLGYedySjTGC",
        "outputId": "db7cbf7c-abcb-4bea-eb30-7d5bb88bb977"
      },
      "outputs": [
        {
          "data": {
            "text/html": [
              "<div>\n",
              "<style scoped>\n",
              "    .dataframe tbody tr th:only-of-type {\n",
              "        vertical-align: middle;\n",
              "    }\n",
              "\n",
              "    .dataframe tbody tr th {\n",
              "        vertical-align: top;\n",
              "    }\n",
              "\n",
              "    .dataframe thead th {\n",
              "        text-align: right;\n",
              "    }\n",
              "</style>\n",
              "<table border=\"1\" class=\"dataframe\">\n",
              "  <thead>\n",
              "    <tr style=\"text-align: right;\">\n",
              "      <th></th>\n",
              "      <th>id_x</th>\n",
              "      <th>summary</th>\n",
              "      <th>space</th>\n",
              "      <th>description</th>\n",
              "      <th>host_id</th>\n",
              "      <th>host_name</th>\n",
              "      <th>neighbourhood_group_cleansed</th>\n",
              "      <th>city</th>\n",
              "      <th>country_code</th>\n",
              "      <th>country</th>\n",
              "      <th>...</th>\n",
              "      <th>beds</th>\n",
              "      <th>bed_type</th>\n",
              "      <th>amenities</th>\n",
              "      <th>price</th>\n",
              "      <th>listing_id</th>\n",
              "      <th>id_y</th>\n",
              "      <th>date</th>\n",
              "      <th>reviewer_id</th>\n",
              "      <th>reviewer_name</th>\n",
              "      <th>comments</th>\n",
              "    </tr>\n",
              "  </thead>\n",
              "  <tbody>\n",
              "    <tr>\n",
              "      <th>0</th>\n",
              "      <td>953595</td>\n",
              "      <td>Chemically sensitive? We've removed the irrita...</td>\n",
              "      <td>Beautiful, hypoallergenic apartment in an extr...</td>\n",
              "      <td>Chemically sensitive? We've removed the irrita...</td>\n",
              "      <td>5177328</td>\n",
              "      <td>Andrea</td>\n",
              "      <td>Queen Anne</td>\n",
              "      <td>Seattle</td>\n",
              "      <td>US</td>\n",
              "      <td>United States</td>\n",
              "      <td>...</td>\n",
              "      <td>1.0</td>\n",
              "      <td>Real Bed</td>\n",
              "      <td>{TV,Internet,\"Wireless Internet\",Kitchen,\"Free...</td>\n",
              "      <td>$150.00</td>\n",
              "      <td>953595</td>\n",
              "      <td>6643648</td>\n",
              "      <td>8/19/2013</td>\n",
              "      <td>7323285</td>\n",
              "      <td>Cherry</td>\n",
              "      <td>The reservation was canceled 33 days before ar...</td>\n",
              "    </tr>\n",
              "    <tr>\n",
              "      <th>1</th>\n",
              "      <td>953595</td>\n",
              "      <td>Chemically sensitive? We've removed the irrita...</td>\n",
              "      <td>Beautiful, hypoallergenic apartment in an extr...</td>\n",
              "      <td>Chemically sensitive? We've removed the irrita...</td>\n",
              "      <td>5177328</td>\n",
              "      <td>Andrea</td>\n",
              "      <td>Queen Anne</td>\n",
              "      <td>Seattle</td>\n",
              "      <td>US</td>\n",
              "      <td>United States</td>\n",
              "      <td>...</td>\n",
              "      <td>1.0</td>\n",
              "      <td>Real Bed</td>\n",
              "      <td>{TV,Internet,\"Wireless Internet\",Kitchen,\"Free...</td>\n",
              "      <td>$150.00</td>\n",
              "      <td>953595</td>\n",
              "      <td>6643745</td>\n",
              "      <td>8/19/2013</td>\n",
              "      <td>7557645</td>\n",
              "      <td>Georgianne</td>\n",
              "      <td>The reservation was canceled 38 days before ar...</td>\n",
              "    </tr>\n",
              "  </tbody>\n",
              "</table>\n",
              "<p>2 rows × 25 columns</p>\n",
              "</div>"
            ],
            "text/plain": [
              "     id_x                                            summary  \\\n",
              "0  953595  Chemically sensitive? We've removed the irrita...   \n",
              "1  953595  Chemically sensitive? We've removed the irrita...   \n",
              "\n",
              "                                               space  \\\n",
              "0  Beautiful, hypoallergenic apartment in an extr...   \n",
              "1  Beautiful, hypoallergenic apartment in an extr...   \n",
              "\n",
              "                                         description  host_id host_name  \\\n",
              "0  Chemically sensitive? We've removed the irrita...  5177328    Andrea   \n",
              "1  Chemically sensitive? We've removed the irrita...  5177328    Andrea   \n",
              "\n",
              "  neighbourhood_group_cleansed     city country_code        country  ... beds  \\\n",
              "0                   Queen Anne  Seattle           US  United States  ...  1.0   \n",
              "1                   Queen Anne  Seattle           US  United States  ...  1.0   \n",
              "\n",
              "   bed_type                                          amenities     price  \\\n",
              "0  Real Bed  {TV,Internet,\"Wireless Internet\",Kitchen,\"Free...  $150.00    \n",
              "1  Real Bed  {TV,Internet,\"Wireless Internet\",Kitchen,\"Free...  $150.00    \n",
              "\n",
              "   listing_id     id_y       date reviewer_id reviewer_name  \\\n",
              "0      953595  6643648  8/19/2013     7323285        Cherry   \n",
              "1      953595  6643745  8/19/2013     7557645    Georgianne   \n",
              "\n",
              "                                            comments  \n",
              "0  The reservation was canceled 33 days before ar...  \n",
              "1  The reservation was canceled 38 days before ar...  \n",
              "\n",
              "[2 rows x 25 columns]"
            ]
          },
          "execution_count": 28,
          "metadata": {},
          "output_type": "execute_result"
        }
      ],
      "source": [
        "df_merge.head(2)"
      ]
    },
    {
      "cell_type": "markdown",
      "metadata": {
        "id": "5wBCXTMvjTGC"
      },
      "source": [
        "## PROJECT 1 STOP HERE"
      ]
    },
    {
      "cell_type": "markdown",
      "metadata": {
        "id": "zXjQrffcjTGC"
      },
      "source": [
        "\n",
        "\n",
        "## PROJECT 2\n",
        "\n"
      ]
    },
    {
      "cell_type": "markdown",
      "metadata": {
        "id": "cGy_yddGtzhM"
      },
      "source": [
        "## 5. Answer the research question\n",
        "\n",
        "### **5.1:** Define and answer the research question\n"
      ]
    },
    {
      "cell_type": "markdown",
      "metadata": {
        "id": "gjedE4s4ZkEd"
      },
      "source": [
        "* Question 1:  "
      ]
    },
    {
      "cell_type": "code",
      "execution_count": null,
      "metadata": {
        "id": "ARGR2kqVjTGH"
      },
      "outputs": [],
      "source": [
        "#Visual 1 - FILL IN\n"
      ]
    },
    {
      "cell_type": "markdown",
      "metadata": {
        "id": "mgFh1FXnjTGH"
      },
      "source": [
        "Justifications"
      ]
    },
    {
      "cell_type": "markdown",
      "metadata": {
        "id": "MCQq0KT4jTGH"
      },
      "source": [
        " Question 2:"
      ]
    },
    {
      "cell_type": "code",
      "execution_count": null,
      "metadata": {
        "id": "6fdK_8ZGZm9R"
      },
      "outputs": [],
      "source": [
        "#Visual 2 - FILL IN"
      ]
    },
    {
      "cell_type": "markdown",
      "metadata": {
        "id": "tQfwDEIajTGH"
      },
      "source": [
        "Justifications"
      ]
    },
    {
      "cell_type": "markdown",
      "metadata": {
        "id": "n4MnNVAOjTGI"
      },
      "source": [
        "Question n:"
      ]
    },
    {
      "cell_type": "markdown",
      "metadata": {
        "id": "K5RgvMGUZoHn"
      },
      "source": [
        "Justifications"
      ]
    },
    {
      "cell_type": "markdown",
      "metadata": {
        "id": "0ezWXXZVj-TP"
      },
      "source": [
        "### **5.2:** Reflection\n",
        "\n",
        "After all steps above, I have the clean datasets and answer the research questions.\n",
        "By using research questions, We can know the number infected cases in states, the death rate and the anomaly data."
      ]
    },
    {
      "cell_type": "markdown",
      "metadata": {
        "id": "XB3RBDG5kFe1"
      },
      "source": [
        "In the future, I will look into the anomaly of the death and I will calculate the number of increasing or decreasing infected cases.\n",
        "Further more, I will check the data in some columns such"
      ]
    },
    {
      "cell_type": "markdown",
      "metadata": {
        "id": "XIdPMzydjTGI"
      },
      "source": [
        "#### SUBMISSION\n",
        "\n",
        "After completion, export the notebook as an HTML file for the project submission using the File > Download as... > HTML or PDF menu option.\n",
        "\n",
        "Submit file “my_Project.zip” to Final Project includes:\n",
        "\n",
        "    1. my_Project.html\n",
        "    2. my _Project.ipynb\n"
      ]
    },
    {
      "cell_type": "code",
      "execution_count": null,
      "metadata": {
        "id": "ZlG-RU34jTGI"
      },
      "outputs": [],
      "source": []
    }
  ],
  "metadata": {
    "colab": {
      "provenance": []
    },
    "kernelspec": {
      "display_name": "Python 3 (ipykernel)",
      "language": "python",
      "name": "python3"
    },
    "language_info": {
      "codemirror_mode": {
        "name": "ipython",
        "version": 3
      },
      "file_extension": ".py",
      "mimetype": "text/x-python",
      "name": "python",
      "nbconvert_exporter": "python",
      "pygments_lexer": "ipython3",
      "version": "3.11.5"
    }
  },
  "nbformat": 4,
  "nbformat_minor": 0
}